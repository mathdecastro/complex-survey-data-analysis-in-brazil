{
  "cells": [
    {
      "cell_type": "markdown",
      "metadata": {
        "id": "view-in-github",
        "colab_type": "text"
      },
      "source": [
        "<a href=\"https://colab.research.google.com/github/mathdecastro/complex-survey-data-analysis-in-brazil/blob/main/Amostragem_Avan%C3%A7ada_PNADc.ipynb\" target=\"_parent\"><img src=\"https://colab.research.google.com/assets/colab-badge.svg\" alt=\"Open In Colab\"/></a>"
      ]
    },
    {
      "cell_type": "markdown",
      "metadata": {
        "id": "zRvwdVmpy9jY"
      },
      "source": [
        "##**Carregando os pacotes e os dados**"
      ]
    },
    {
      "cell_type": "code",
      "source": [
        "install.packages(\"PNADcIBGE\")\n",
        "library(PNADcIBGE)\n",
        "library(survey)\n",
        "library(tidyverse)\n",
        "\n",
        "variaveis_selecionadas = c(\"UF\",\"V2001\",\"V2005\",\"V2007\",\"V2009\",\n",
        "                          \"V2010\",\"VD3004\",\"VD4001\",\"VD4002\",\"VD4020\",\n",
        "                          \"VD4035\", \"VD4003\", \"VD4005\", \"VD4004A\")\n",
        "\n",
        "dados_pnadc = get_pnadc(year = 2018,\n",
        "                        quarter = 1,\n",
        "                        vars = variaveis_selecionadas)"
      ],
      "metadata": {
        "colab": {
          "base_uri": "https://localhost:8080/"
        },
        "id": "zbhunXiXsen-",
        "outputId": "e374dc77-f5ed-4cb7-c5a5-b926e1db2b7f"
      },
      "execution_count": null,
      "outputs": [
        {
          "output_type": "stream",
          "name": "stderr",
          "text": [
            "Installing package into ‘/usr/local/lib/R/site-library’\n",
            "(as ‘lib’ is unspecified)\n",
            "\n",
            "also installing the dependencies ‘bitops’, ‘minqa’, ‘numDeriv’, ‘mitools’, ‘Rcpp’, ‘RcppArmadillo’, ‘projmgr’, ‘RCurl’, ‘survey’, ‘timeDate’\n",
            "\n",
            "\n",
            "Loading required package: grid\n",
            "\n",
            "Loading required package: Matrix\n",
            "\n",
            "Loading required package: survival\n",
            "\n",
            "\n",
            "Attaching package: ‘survey’\n",
            "\n",
            "\n",
            "The following object is masked from ‘package:graphics’:\n",
            "\n",
            "    dotchart\n",
            "\n",
            "\n",
            "── \u001b[1mAttaching core tidyverse packages\u001b[22m ──────────────────────── tidyverse 2.0.0 ──\n",
            "\u001b[32m✔\u001b[39m \u001b[34mdplyr    \u001b[39m 1.1.4     \u001b[32m✔\u001b[39m \u001b[34mreadr    \u001b[39m 2.1.5\n",
            "\u001b[32m✔\u001b[39m \u001b[34mforcats  \u001b[39m 1.0.0     \u001b[32m✔\u001b[39m \u001b[34mstringr  \u001b[39m 1.5.1\n",
            "\u001b[32m✔\u001b[39m \u001b[34mggplot2  \u001b[39m 3.4.4     \u001b[32m✔\u001b[39m \u001b[34mtibble   \u001b[39m 3.2.1\n",
            "\u001b[32m✔\u001b[39m \u001b[34mlubridate\u001b[39m 1.9.3     \u001b[32m✔\u001b[39m \u001b[34mtidyr    \u001b[39m 1.3.1\n",
            "\u001b[32m✔\u001b[39m \u001b[34mpurrr    \u001b[39m 1.0.2     \n",
            "── \u001b[1mConflicts\u001b[22m ────────────────────────────────────────── tidyverse_conflicts() ──\n",
            "\u001b[31m✖\u001b[39m \u001b[34mpurrr\u001b[39m::\u001b[32m%||%()\u001b[39m   masks \u001b[34mbase\u001b[39m::%||%()\n",
            "\u001b[31m✖\u001b[39m \u001b[34mtidyr\u001b[39m::\u001b[32mexpand()\u001b[39m masks \u001b[34mMatrix\u001b[39m::expand()\n",
            "\u001b[31m✖\u001b[39m \u001b[34mdplyr\u001b[39m::\u001b[32mfilter()\u001b[39m masks \u001b[34mstats\u001b[39m::filter()\n",
            "\u001b[31m✖\u001b[39m \u001b[34mdplyr\u001b[39m::\u001b[32mlag()\u001b[39m    masks \u001b[34mstats\u001b[39m::lag()\n",
            "\u001b[31m✖\u001b[39m \u001b[34mtidyr\u001b[39m::\u001b[32mpack()\u001b[39m   masks \u001b[34mMatrix\u001b[39m::pack()\n",
            "\u001b[31m✖\u001b[39m \u001b[34mtidyr\u001b[39m::\u001b[32munpack()\u001b[39m masks \u001b[34mMatrix\u001b[39m::unpack()\n",
            "\u001b[36mℹ\u001b[39m Use the conflicted package (\u001b[3m\u001b[34m<http://conflicted.r-lib.org/>\u001b[39m\u001b[23m) to force all conflicts to become errors\n"
          ]
        }
      ]
    },
    {
      "cell_type": "markdown",
      "metadata": {
        "id": "73WUgpcuyyot"
      },
      "source": [
        "##**Selecionando as variáveis e carregando os dados**"
      ]
    },
    {
      "cell_type": "code",
      "source": [
        "svyhist(\n",
        "  formula = ~as.numeric(VD4035),\n",
        "  design = dados_pnadc,\n",
        "  freq = TRUE,\n",
        "  xlab = \"Horas trabalhadas na semana de referência (VD4035)\",\n",
        "  ylab = \"Frequência\",\n",
        "  main = \"\"\n",
        "  )"
      ],
      "metadata": {
        "id": "L4Rzefr8qyRp",
        "colab": {
          "base_uri": "https://localhost:8080/",
          "height": 437
        },
        "outputId": "84d3d68d-db7d-40d5-ab8e-630414708c3b"
      },
      "execution_count": null,
      "outputs": [
        {
          "output_type": "display_data",
          "data": {
            "text/plain": [
              "Plot with title “”"
            ],
            "image/png": "[encoded data removed]"
          },
          "metadata": {
            "image/png": {
              "width": 420,
              "height": 420
            }
          }
        }
      ]
    },
    {
      "cell_type": "code",
      "source": [
        "df = data.frame(svyby(formula=~(VD4002==\"Pessoas desocupadas\"),\n",
        " denominator=~(VD4001==\"Pessoas na força de trabalho\"),\n",
        " by=~UF,\n",
        " design=dados_pnadc,\n",
        " FUN=svyratio,\n",
        " vartype=\"cv\",\n",
        " na.rm=TRUE\n",
        " ))\n",
        "\n",
        "colnames(df) = c('UF', 'percentual', 'coefvar')\n",
        "\n",
        "siglas_uf = c(\"RO\", \"AC\", \"AM\", \"RR\", \"PA\", \"AP\", \"TO\", \"MA\", \"PI\", \"CE\", \"RN\", \"PB\", \"PE\", \"AL\", \"SE\", \"BA\", \"MG\", \"ES\", \"RJ\", \"SP\", \"PR\", \"SC\", \"RS\", \"MS\", \"MT\", \"GO\", \"DF\")\n",
        "df$sigla_uf = siglas_uf"
      ],
      "metadata": {
        "id": "nBpQjoF9J2FT",
        "colab": {
          "base_uri": "https://localhost:8080/",
          "height": 731
        },
        "outputId": "f29ff762-ffec-4fec-8339-dc3211619ae4"
      },
      "execution_count": null,
      "outputs": [
        {
          "output_type": "stream",
          "name": "stderr",
          "text": [
            "Warning message in Ops.factor(\"Pessoas desocupadas\", VD4004A):\n",
            "“‘+’ not meaningful for factors”\n"
          ]
        },
        {
          "output_type": "error",
          "ename": "ERROR",
          "evalue": "Error in svrVar(repmeans, scale, rscales, mse = design$mse, coef = rval): All replicates contained NAs\n",
          "traceback": [
            "Error in svrVar(repmeans, scale, rscales, mse = design$mse, coef = rval): All replicates contained NAs\nTraceback:\n",
            "1. data.frame(svyby(formula = ~(VD4002 == \"Pessoas desocupadas\" + \n .     VD4004A), denominator = ~(VD4001 == \"Pessoas na força de trabalho\"), \n .     by = ~UF, design = dados_pnadc, FUN = svyratio, vartype = \"cv\", \n .     na.rm = TRUE))",
            "2. svyby(formula = ~(VD4002 == \"Pessoas desocupadas\" + VD4004A), \n .     denominator = ~(VD4001 == \"Pessoas na força de trabalho\"), \n .     by = ~UF, design = dados_pnadc, FUN = svyratio, vartype = \"cv\", \n .     na.rm = TRUE)",
            "3. svyby.default(formula = ~(VD4002 == \"Pessoas desocupadas\" + VD4004A), \n .     denominator = ~(VD4001 == \"Pessoas na força de trabalho\"), \n .     by = ~UF, design = dados_pnadc, FUN = svyratio, vartype = \"cv\", \n .     na.rm = TRUE)",
            "4. (if (multicore) parallel::mclapply else lapply)(uniques, function(i) {\n .     if (verbose && !multicore) \n .         print(as.character(byfactor[i]))\n .     if (inherits(formula, \"formula\")) \n .         data <- formula\n .     else data <- subset(formula, byfactor %in% byfactor[i])\n .     if (covmat || return.replicates) {\n .         FUN(data, design[byfactor %in% byfactor[i], ], deff = deff, \n .             ..., return.replicates = TRUE)\n .     }\n .     else {\n .         FUN(data, design[byfactor %in% byfactor[i], ], deff = deff, \n .             ...)\n .     }\n . })",
            "5. FUN(X[[i]], ...)",
            "6. FUN(data, design[byfactor %in% byfactor[i], ], deff = deff, ...)",
            "7. svyratio.svyrep.design(data, design[byfactor %in% byfactor[i], \n .     ], deff = deff, ...)",
            "8. svymean(all, design, return.replicates = TRUE)",
            "9. svymean.svyrep.design(all, design, return.replicates = TRUE)",
            "10. svrVar(repmeans, scale, rscales, mse = design$mse, coef = rval)",
            "11. stop(\"All replicates contained NAs\")"
          ]
        }
      ]
    },
    {
      "cell_type": "code",
      "source": [
        "df"
      ],
      "metadata": {
        "colab": {
          "base_uri": "https://localhost:8080/",
          "height": 945
        },
        "id": "W42smA58bcs_",
        "outputId": "d5ed4e6a-2e1a-4237-a81e-1320c6d5c4f8"
      },
      "execution_count": null,
      "outputs": [
        {
          "output_type": "display_data",
          "data": {
            "text/html": [
              "<table class=\"dataframe\">\n",
              "<caption>A data.frame: 27 × 6</caption>\n",
              "<thead>\n",
              "\t<tr><th></th><th scope=col>UF</th><th scope=col>percentual</th><th scope=col>coefvar</th><th scope=col>NA</th><th scope=col>NA</th><th scope=col>sigla_uf</th></tr>\n",
              "\t<tr><th></th><th scope=col>&lt;fct&gt;</th><th scope=col>&lt;dbl&gt;</th><th scope=col>&lt;dbl&gt;</th><th scope=col>&lt;dbl&gt;</th><th scope=col>&lt;dbl&gt;</th><th scope=col>&lt;chr&gt;</th></tr>\n",
              "</thead>\n",
              "<tbody>\n",
              "\t<tr><th scope=row>Rondônia</th><td>Rondônia           </td><td>0</td><td>1</td><td>NaN</td><td>0</td><td>RO</td></tr>\n",
              "\t<tr><th scope=row>Acre</th><td>Acre               </td><td>0</td><td>1</td><td>NaN</td><td>0</td><td>AC</td></tr>\n",
              "\t<tr><th scope=row>Amazonas</th><td>Amazonas           </td><td>0</td><td>1</td><td>NaN</td><td>0</td><td>AM</td></tr>\n",
              "\t<tr><th scope=row>Roraima</th><td>Roraima            </td><td>0</td><td>1</td><td>NaN</td><td>0</td><td>RR</td></tr>\n",
              "\t<tr><th scope=row>Pará</th><td>Pará               </td><td>0</td><td>1</td><td>NaN</td><td>0</td><td>PA</td></tr>\n",
              "\t<tr><th scope=row>Amapá</th><td>Amapá              </td><td>0</td><td>1</td><td>NaN</td><td>0</td><td>AP</td></tr>\n",
              "\t<tr><th scope=row>Tocantins</th><td>Tocantins          </td><td>0</td><td>1</td><td>NaN</td><td>0</td><td>TO</td></tr>\n",
              "\t<tr><th scope=row>Maranhão</th><td>Maranhão           </td><td>0</td><td>1</td><td>NaN</td><td>0</td><td>MA</td></tr>\n",
              "\t<tr><th scope=row>Piauí</th><td>Piauí              </td><td>0</td><td>1</td><td>NaN</td><td>0</td><td>PI</td></tr>\n",
              "\t<tr><th scope=row>Ceará</th><td>Ceará              </td><td>0</td><td>1</td><td>NaN</td><td>0</td><td>CE</td></tr>\n",
              "\t<tr><th scope=row>Rio Grande do Norte</th><td>Rio Grande do Norte</td><td>0</td><td>1</td><td>NaN</td><td>0</td><td>RN</td></tr>\n",
              "\t<tr><th scope=row>Paraíba</th><td>Paraíba            </td><td>0</td><td>1</td><td>NaN</td><td>0</td><td>PB</td></tr>\n",
              "\t<tr><th scope=row>Pernambuco</th><td>Pernambuco         </td><td>0</td><td>1</td><td>NaN</td><td>0</td><td>PE</td></tr>\n",
              "\t<tr><th scope=row>Alagoas</th><td>Alagoas            </td><td>0</td><td>1</td><td>NaN</td><td>0</td><td>AL</td></tr>\n",
              "\t<tr><th scope=row>Sergipe</th><td>Sergipe            </td><td>0</td><td>1</td><td>NaN</td><td>0</td><td>SE</td></tr>\n",
              "\t<tr><th scope=row>Bahia</th><td>Bahia              </td><td>0</td><td>1</td><td>NaN</td><td>0</td><td>BA</td></tr>\n",
              "\t<tr><th scope=row>Minas Gerais</th><td>Minas Gerais       </td><td>0</td><td>1</td><td>NaN</td><td>0</td><td>MG</td></tr>\n",
              "\t<tr><th scope=row>Espírito Santo</th><td>Espírito Santo     </td><td>0</td><td>1</td><td>NaN</td><td>0</td><td>ES</td></tr>\n",
              "\t<tr><th scope=row>Rio de Janeiro</th><td>Rio de Janeiro     </td><td>0</td><td>1</td><td>NaN</td><td>0</td><td>RJ</td></tr>\n",
              "\t<tr><th scope=row>São Paulo</th><td>São Paulo          </td><td>0</td><td>1</td><td>NaN</td><td>0</td><td>SP</td></tr>\n",
              "\t<tr><th scope=row>Paraná</th><td>Paraná             </td><td>0</td><td>1</td><td>NaN</td><td>0</td><td>PR</td></tr>\n",
              "\t<tr><th scope=row>Santa Catarina</th><td>Santa Catarina     </td><td>0</td><td>1</td><td>NaN</td><td>0</td><td>SC</td></tr>\n",
              "\t<tr><th scope=row>Rio Grande do Sul</th><td>Rio Grande do Sul  </td><td>0</td><td>1</td><td>NaN</td><td>0</td><td>RS</td></tr>\n",
              "\t<tr><th scope=row>Mato Grosso do Sul</th><td>Mato Grosso do Sul </td><td>0</td><td>1</td><td>NaN</td><td>0</td><td>MS</td></tr>\n",
              "\t<tr><th scope=row>Mato Grosso</th><td>Mato Grosso        </td><td>0</td><td>1</td><td>NaN</td><td>0</td><td>MT</td></tr>\n",
              "\t<tr><th scope=row>Goiás</th><td>Goiás              </td><td>0</td><td>1</td><td>NaN</td><td>0</td><td>GO</td></tr>\n",
              "\t<tr><th scope=row>Distrito Federal</th><td>Distrito Federal   </td><td>0</td><td>1</td><td>NaN</td><td>0</td><td>DF</td></tr>\n",
              "</tbody>\n",
              "</table>\n"
            ],
            "text/markdown": "\nA data.frame: 27 × 6\n\n| <!--/--> | UF &lt;fct&gt; | percentual &lt;dbl&gt; | coefvar &lt;dbl&gt; | NA &lt;dbl&gt; | NA &lt;dbl&gt; | sigla_uf &lt;chr&gt; |\n|---|---|---|---|---|---|---|\n| Rondônia | Rondônia            | 0 | 1 | NaN | 0 | RO |\n| Acre | Acre                | 0 | 1 | NaN | 0 | AC |\n| Amazonas | Amazonas            | 0 | 1 | NaN | 0 | AM |\n| Roraima | Roraima             | 0 | 1 | NaN | 0 | RR |\n| Pará | Pará                | 0 | 1 | NaN | 0 | PA |\n| Amapá | Amapá               | 0 | 1 | NaN | 0 | AP |\n| Tocantins | Tocantins           | 0 | 1 | NaN | 0 | TO |\n| Maranhão | Maranhão            | 0 | 1 | NaN | 0 | MA |\n| Piauí | Piauí               | 0 | 1 | NaN | 0 | PI |\n| Ceará | Ceará               | 0 | 1 | NaN | 0 | CE |\n| Rio Grande do Norte | Rio Grande do Norte | 0 | 1 | NaN | 0 | RN |\n| Paraíba | Paraíba             | 0 | 1 | NaN | 0 | PB |\n| Pernambuco | Pernambuco          | 0 | 1 | NaN | 0 | PE |\n| Alagoas | Alagoas             | 0 | 1 | NaN | 0 | AL |\n| Sergipe | Sergipe             | 0 | 1 | NaN | 0 | SE |\n| Bahia | Bahia               | 0 | 1 | NaN | 0 | BA |\n| Minas Gerais | Minas Gerais        | 0 | 1 | NaN | 0 | MG |\n| Espírito Santo | Espírito Santo      | 0 | 1 | NaN | 0 | ES |\n| Rio de Janeiro | Rio de Janeiro      | 0 | 1 | NaN | 0 | RJ |\n| São Paulo | São Paulo           | 0 | 1 | NaN | 0 | SP |\n| Paraná | Paraná              | 0 | 1 | NaN | 0 | PR |\n| Santa Catarina | Santa Catarina      | 0 | 1 | NaN | 0 | SC |\n| Rio Grande do Sul | Rio Grande do Sul   | 0 | 1 | NaN | 0 | RS |\n| Mato Grosso do Sul | Mato Grosso do Sul  | 0 | 1 | NaN | 0 | MS |\n| Mato Grosso | Mato Grosso         | 0 | 1 | NaN | 0 | MT |\n| Goiás | Goiás               | 0 | 1 | NaN | 0 | GO |\n| Distrito Federal | Distrito Federal    | 0 | 1 | NaN | 0 | DF |\n\n",
            "text/latex": "A data.frame: 27 × 6\n\\begin{tabular}{r|llllll}\n  & UF & percentual & coefvar & NA & NA & sigla\\_uf\\\\\n  & <fct> & <dbl> & <dbl> & <dbl> & <dbl> & <chr>\\\\\n\\hline\n\tRondônia & Rondônia            & 0 & 1 & NaN & 0 & RO\\\\\n\tAcre & Acre                & 0 & 1 & NaN & 0 & AC\\\\\n\tAmazonas & Amazonas            & 0 & 1 & NaN & 0 & AM\\\\\n\tRoraima & Roraima             & 0 & 1 & NaN & 0 & RR\\\\\n\tPará & Pará                & 0 & 1 & NaN & 0 & PA\\\\\n\tAmapá & Amapá               & 0 & 1 & NaN & 0 & AP\\\\\n\tTocantins & Tocantins           & 0 & 1 & NaN & 0 & TO\\\\\n\tMaranhão & Maranhão            & 0 & 1 & NaN & 0 & MA\\\\\n\tPiauí & Piauí               & 0 & 1 & NaN & 0 & PI\\\\\n\tCeará & Ceará               & 0 & 1 & NaN & 0 & CE\\\\\n\tRio Grande do Norte & Rio Grande do Norte & 0 & 1 & NaN & 0 & RN\\\\\n\tParaíba & Paraíba             & 0 & 1 & NaN & 0 & PB\\\\\n\tPernambuco & Pernambuco          & 0 & 1 & NaN & 0 & PE\\\\\n\tAlagoas & Alagoas             & 0 & 1 & NaN & 0 & AL\\\\\n\tSergipe & Sergipe             & 0 & 1 & NaN & 0 & SE\\\\\n\tBahia & Bahia               & 0 & 1 & NaN & 0 & BA\\\\\n\tMinas Gerais & Minas Gerais        & 0 & 1 & NaN & 0 & MG\\\\\n\tEspírito Santo & Espírito Santo      & 0 & 1 & NaN & 0 & ES\\\\\n\tRio de Janeiro & Rio de Janeiro      & 0 & 1 & NaN & 0 & RJ\\\\\n\tSão Paulo & São Paulo           & 0 & 1 & NaN & 0 & SP\\\\\n\tParaná & Paraná              & 0 & 1 & NaN & 0 & PR\\\\\n\tSanta Catarina & Santa Catarina      & 0 & 1 & NaN & 0 & SC\\\\\n\tRio Grande do Sul & Rio Grande do Sul   & 0 & 1 & NaN & 0 & RS\\\\\n\tMato Grosso do Sul & Mato Grosso do Sul  & 0 & 1 & NaN & 0 & MS\\\\\n\tMato Grosso & Mato Grosso         & 0 & 1 & NaN & 0 & MT\\\\\n\tGoiás & Goiás               & 0 & 1 & NaN & 0 & GO\\\\\n\tDistrito Federal & Distrito Federal    & 0 & 1 & NaN & 0 & DF\\\\\n\\end{tabular}\n",
            "text/plain": [
              "                    UF                  percentual coefvar <NA> <NA> sigla_uf\n",
              "Rondônia            Rondônia            0          1       NaN  0    RO      \n",
              "Acre                Acre                0          1       NaN  0    AC      \n",
              "Amazonas            Amazonas            0          1       NaN  0    AM      \n",
              "Roraima             Roraima             0          1       NaN  0    RR      \n",
              "Pará                Pará                0          1       NaN  0    PA      \n",
              "Amapá               Amapá               0          1       NaN  0    AP      \n",
              "Tocantins           Tocantins           0          1       NaN  0    TO      \n",
              "Maranhão            Maranhão            0          1       NaN  0    MA      \n",
              "Piauí               Piauí               0          1       NaN  0    PI      \n",
              "Ceará               Ceará               0          1       NaN  0    CE      \n",
              "Rio Grande do Norte Rio Grande do Norte 0          1       NaN  0    RN      \n",
              "Paraíba             Paraíba             0          1       NaN  0    PB      \n",
              "Pernambuco          Pernambuco          0          1       NaN  0    PE      \n",
              "Alagoas             Alagoas             0          1       NaN  0    AL      \n",
              "Sergipe             Sergipe             0          1       NaN  0    SE      \n",
              "Bahia               Bahia               0          1       NaN  0    BA      \n",
              "Minas Gerais        Minas Gerais        0          1       NaN  0    MG      \n",
              "Espírito Santo      Espírito Santo      0          1       NaN  0    ES      \n",
              "Rio de Janeiro      Rio de Janeiro      0          1       NaN  0    RJ      \n",
              "São Paulo           São Paulo           0          1       NaN  0    SP      \n",
              "Paraná              Paraná              0          1       NaN  0    PR      \n",
              "Santa Catarina      Santa Catarina      0          1       NaN  0    SC      \n",
              "Rio Grande do Sul   Rio Grande do Sul   0          1       NaN  0    RS      \n",
              "Mato Grosso do Sul  Mato Grosso do Sul  0          1       NaN  0    MS      \n",
              "Mato Grosso         Mato Grosso         0          1       NaN  0    MT      \n",
              "Goiás               Goiás               0          1       NaN  0    GO      \n",
              "Distrito Federal    Distrito Federal    0          1       NaN  0    DF      "
            ]
          },
          "metadata": {}
        }
      ]
    },
    {
      "cell_type": "code",
      "source": [
        "ggplot(df, aes(x = sigla_uf)) +\n",
        "  geom_bar(aes(y = percentual), stat = \"identity\", fill = \"skyblue\") +\n",
        "  geom_line(aes(y = coefvar * 8, group = 1), color = \"red\", size = 1) +\n",
        "  geom_point(aes(y = coefvar * 8), color = \"red\", size = 2) +\n",
        "  scale_y_continuous(\n",
        "    name = \"Taxa de Desocupação\",\n",
        "    sec.axis = sec_axis(~./100, name = \"Coeficiente de Variação\")\n",
        "  ) +\n",
        "  labs(\n",
        "    x = \"UF\"\n",
        "  ) +\n",
        "  theme_minimal() +\n",
        "  theme(panel.grid.major = element_line(colour = \"black\", size = 0.04, linetype = 1))"
      ],
      "metadata": {
        "colab": {
          "base_uri": "https://localhost:8080/",
          "height": 437
        },
        "id": "k_nWSqVpOjQY",
        "outputId": "97ed3617-799b-4b95-e7f1-c3fc6c1c49fe"
      },
      "execution_count": null,
      "outputs": [
        {
          "output_type": "display_data",
          "data": {
            "text/plain": [
              "plot without title"
            ],
            "image/png": "[encoded data removed]"
          },
          "metadata": {
            "image/png": {
              "width": 420,
              "height": 420
            }
          }
        }
      ]
    },
    {
      "cell_type": "code",
      "source": [
        "dados_pnadc$variables[!is.na(dados_pnadc$variables$VD4001), ] %>%\n",
        "  select(UF, VD4001, V1028) %>%\n",
        "  group_by(VD4001, UF) %>%\n",
        "  summarize(QTDE = sum(V1028))"
      ],
      "metadata": {
        "colab": {
          "base_uri": "https://localhost:8080/",
          "height": 72
        },
        "id": "iSDtOnQd1oTv",
        "outputId": "e33931cd-da54-4f39-ecec-c59d2af3a5f4"
      },
      "execution_count": null,
      "outputs": [
        {
          "output_type": "error",
          "ename": "ERROR",
          "evalue": "Error in dados_pnadc$variables[!is.na(dados_pnadc$variables$VD4001), ] %>% : could not find function \"%>%\"\n",
          "traceback": [
            "Error in dados_pnadc$variables[!is.na(dados_pnadc$variables$VD4001), ] %>% : could not find function \"%>%\"\nTraceback:\n"
          ]
        }
      ]
    },
    {
      "cell_type": "code",
      "source": [],
      "metadata": {
        "id": "fYctOXevcGtG"
      },
      "execution_count": null,
      "outputs": []
    },
    {
      "cell_type": "code",
      "source": [
        "df_total_uf = dados_pnadc$variables %>%\n",
        "  select(V2007, UF, V1028) %>%\n",
        "  group_by(UF) %>%\n",
        "  summarize(QTDE = sum(V1028))\n",
        "\n",
        "df_total_uf_sexo = dados_pnadc$variables %>%\n",
        "  select(V2007, UF, V1028) %>%\n",
        "  group_by(UF, V2007) %>%\n",
        "  summarize(QTDE = sum(V1028))\n",
        "\n",
        "df_total_uf_sexo_merged = merge(df_total_uf_sexo, df_total_uf, by = \"UF\") %>% mutate(percentual = QTDE.x/QTDE.y)"
      ],
      "metadata": {
        "id": "SHTGsIKBYTwX"
      },
      "execution_count": null,
      "outputs": []
    },
    {
      "cell_type": "code",
      "source": [
        "df_total_uf_sexo_merged"
      ],
      "metadata": {
        "colab": {
          "base_uri": "https://localhost:8080/",
          "height": 1000
        },
        "id": "uM0soxl43yPY",
        "outputId": "04d37604-a299-48a0-e862-68d9fab89e27"
      },
      "execution_count": null,
      "outputs": [
        {
          "output_type": "display_data",
          "data": {
            "text/html": [
              "<table class=\"dataframe\">\n",
              "<caption>A data.frame: 54 × 5</caption>\n",
              "<thead>\n",
              "\t<tr><th scope=col>UF</th><th scope=col>V2007</th><th scope=col>QTDE.x</th><th scope=col>QTDE.y</th><th scope=col>percentual</th></tr>\n",
              "\t<tr><th scope=col>&lt;fct&gt;</th><th scope=col>&lt;fct&gt;</th><th scope=col>&lt;dbl&gt;</th><th scope=col>&lt;dbl&gt;</th><th scope=col>&lt;dbl&gt;</th></tr>\n",
              "</thead>\n",
              "<tbody>\n",
              "\t<tr><td>Acre               </td><td>Homem </td><td>  424585.5</td><td>  848629</td><td>0.5003193</td></tr>\n",
              "\t<tr><td>Acre               </td><td>Mulher</td><td>  424043.5</td><td>  848629</td><td>0.4996807</td></tr>\n",
              "\t<tr><td>Alagoas            </td><td>Homem </td><td> 1593820.0</td><td> 3311077</td><td>0.4813600</td></tr>\n",
              "\t<tr><td>Alagoas            </td><td>Mulher</td><td> 1717257.0</td><td> 3311077</td><td>0.5186400</td></tr>\n",
              "\t<tr><td>Amapá              </td><td>Homem </td><td>  405149.9</td><td>  815210</td><td>0.4969884</td></tr>\n",
              "\t<tr><td>Amapá              </td><td>Mulher</td><td>  410060.1</td><td>  815210</td><td>0.5030116</td></tr>\n",
              "\t<tr><td>Amazonas           </td><td>Homem </td><td> 1957947.9</td><td> 3898488</td><td>0.5022326</td></tr>\n",
              "\t<tr><td>Amazonas           </td><td>Mulher</td><td> 1940540.1</td><td> 3898488</td><td>0.4977674</td></tr>\n",
              "\t<tr><td>Bahia              </td><td>Homem </td><td> 7280628.3</td><td>14772847</td><td>0.4928385</td></tr>\n",
              "\t<tr><td>Bahia              </td><td>Mulher</td><td> 7492218.7</td><td>14772847</td><td>0.5071615</td></tr>\n",
              "\t<tr><td>Ceará              </td><td>Homem </td><td> 4435651.4</td><td> 9052125</td><td>0.4900122</td></tr>\n",
              "\t<tr><td>Ceará              </td><td>Mulher</td><td> 4616473.6</td><td> 9052125</td><td>0.5099878</td></tr>\n",
              "\t<tr><td>Distrito Federal   </td><td>Homem </td><td> 1427565.8</td><td> 2956719</td><td>0.4828209</td></tr>\n",
              "\t<tr><td>Distrito Federal   </td><td>Mulher</td><td> 1529153.2</td><td> 2956719</td><td>0.5171791</td></tr>\n",
              "\t<tr><td>Espírito Santo     </td><td>Homem </td><td> 1946112.5</td><td> 3951513</td><td>0.4924981</td></tr>\n",
              "\t<tr><td>Espírito Santo     </td><td>Mulher</td><td> 2005400.5</td><td> 3951513</td><td>0.5075019</td></tr>\n",
              "\t<tr><td>Goiás              </td><td>Homem </td><td> 3392825.9</td><td> 6886056</td><td>0.4927096</td></tr>\n",
              "\t<tr><td>Goiás              </td><td>Mulher</td><td> 3493230.1</td><td> 6886056</td><td>0.5072904</td></tr>\n",
              "\t<tr><td>Maranhão           </td><td>Homem </td><td> 3449505.4</td><td> 6987105</td><td>0.4936959</td></tr>\n",
              "\t<tr><td>Maranhão           </td><td>Mulher</td><td> 3537599.6</td><td> 6987105</td><td>0.5063041</td></tr>\n",
              "\t<tr><td>Mato Grosso        </td><td>Homem </td><td> 1689414.3</td><td> 3372593</td><td>0.5009244</td></tr>\n",
              "\t<tr><td>Mato Grosso        </td><td>Mulher</td><td> 1683178.7</td><td> 3372593</td><td>0.4990756</td></tr>\n",
              "\t<tr><td>Mato Grosso do Sul </td><td>Homem </td><td> 1322591.5</td><td> 2667614</td><td>0.4957957</td></tr>\n",
              "\t<tr><td>Mato Grosso do Sul </td><td>Mulher</td><td> 1345022.5</td><td> 2667614</td><td>0.5042043</td></tr>\n",
              "\t<tr><td>Minas Gerais       </td><td>Homem </td><td>10331964.3</td><td>20983393</td><td>0.4923877</td></tr>\n",
              "\t<tr><td>Minas Gerais       </td><td>Mulher</td><td>10651428.7</td><td>20983393</td><td>0.5076123</td></tr>\n",
              "\t<tr><td>Pará               </td><td>Homem </td><td> 4203361.0</td><td> 8440364</td><td>0.4980071</td></tr>\n",
              "\t<tr><td>Pará               </td><td>Mulher</td><td> 4237003.0</td><td> 8440364</td><td>0.5019929</td></tr>\n",
              "\t<tr><td>Paraíba            </td><td>Homem </td><td> 1914959.7</td><td> 3966623</td><td>0.4827683</td></tr>\n",
              "\t<tr><td>Paraíba            </td><td>Mulher</td><td> 2051663.3</td><td> 3966623</td><td>0.5172317</td></tr>\n",
              "\t<tr><td>Paraná             </td><td>Homem </td><td> 5596268.5</td><td>11302545</td><td>0.4951335</td></tr>\n",
              "\t<tr><td>Paraná             </td><td>Mulher</td><td> 5706276.5</td><td>11302545</td><td>0.5048665</td></tr>\n",
              "\t<tr><td>Pernambuco         </td><td>Homem </td><td> 4522243.6</td><td> 9418424</td><td>0.4801487</td></tr>\n",
              "\t<tr><td>Pernambuco         </td><td>Mulher</td><td> 4896180.4</td><td> 9418424</td><td>0.5198513</td></tr>\n",
              "\t<tr><td>Piauí              </td><td>Homem </td><td> 1594264.3</td><td> 3260940</td><td>0.4888971</td></tr>\n",
              "\t<tr><td>Piauí              </td><td>Mulher</td><td> 1666675.7</td><td> 3260940</td><td>0.5111029</td></tr>\n",
              "\t<tr><td>Rio de Janeiro     </td><td>Homem </td><td> 8213982.2</td><td>17119415</td><td>0.4798051</td></tr>\n",
              "\t<tr><td>Rio de Janeiro     </td><td>Mulher</td><td> 8905432.8</td><td>17119415</td><td>0.5201949</td></tr>\n",
              "\t<tr><td>Rio Grande do Norte</td><td>Homem </td><td> 1699430.4</td><td> 3468947</td><td>0.4898981</td></tr>\n",
              "\t<tr><td>Rio Grande do Norte</td><td>Mulher</td><td> 1769516.6</td><td> 3468947</td><td>0.5101019</td></tr>\n",
              "\t<tr><td>Rio Grande do Sul  </td><td>Homem </td><td> 5500910.2</td><td>11290787</td><td>0.4872034</td></tr>\n",
              "\t<tr><td>Rio Grande do Sul  </td><td>Mulher</td><td> 5789876.8</td><td>11290787</td><td>0.5127966</td></tr>\n",
              "\t<tr><td>Rondônia           </td><td>Homem </td><td>  872349.8</td><td> 1739812</td><td>0.5014046</td></tr>\n",
              "\t<tr><td>Rondônia           </td><td>Mulher</td><td>  867462.2</td><td> 1739812</td><td>0.4985954</td></tr>\n",
              "\t<tr><td>Roraima            </td><td>Homem </td><td>  253908.4</td><td>  508058</td><td>0.4997627</td></tr>\n",
              "\t<tr><td>Roraima            </td><td>Mulher</td><td>  254149.6</td><td>  508058</td><td>0.5002373</td></tr>\n",
              "\t<tr><td>Santa Catarina     </td><td>Homem </td><td> 3506225.6</td><td> 7029298</td><td>0.4988017</td></tr>\n",
              "\t<tr><td>Santa Catarina     </td><td>Mulher</td><td> 3523072.4</td><td> 7029298</td><td>0.5011983</td></tr>\n",
              "\t<tr><td>São Paulo          </td><td>Homem </td><td>21967067.0</td><td>45385569</td><td>0.4840100</td></tr>\n",
              "\t<tr><td>São Paulo          </td><td>Mulher</td><td>23418502.0</td><td>45385569</td><td>0.5159900</td></tr>\n",
              "\t<tr><td>Sergipe            </td><td>Homem </td><td> 1083583.0</td><td> 2270687</td><td>0.4772049</td></tr>\n",
              "\t<tr><td>Sergipe            </td><td>Mulher</td><td> 1187104.0</td><td> 2270687</td><td>0.5227951</td></tr>\n",
              "\t<tr><td>Tocantins          </td><td>Homem </td><td>  778680.5</td><td> 1536176</td><td>0.5068954</td></tr>\n",
              "\t<tr><td>Tocantins          </td><td>Mulher</td><td>  757495.5</td><td> 1536176</td><td>0.4931046</td></tr>\n",
              "</tbody>\n",
              "</table>\n"
            ],
            "text/markdown": "\nA data.frame: 54 × 5\n\n| UF &lt;fct&gt; | V2007 &lt;fct&gt; | QTDE.x &lt;dbl&gt; | QTDE.y &lt;dbl&gt; | percentual &lt;dbl&gt; |\n|---|---|---|---|---|\n| Acre                | Homem  |   424585.5 |   848629 | 0.5003193 |\n| Acre                | Mulher |   424043.5 |   848629 | 0.4996807 |\n| Alagoas             | Homem  |  1593820.0 |  3311077 | 0.4813600 |\n| Alagoas             | Mulher |  1717257.0 |  3311077 | 0.5186400 |\n| Amapá               | Homem  |   405149.9 |   815210 | 0.4969884 |\n| Amapá               | Mulher |   410060.1 |   815210 | 0.5030116 |\n| Amazonas            | Homem  |  1957947.9 |  3898488 | 0.5022326 |\n| Amazonas            | Mulher |  1940540.1 |  3898488 | 0.4977674 |\n| Bahia               | Homem  |  7280628.3 | 14772847 | 0.4928385 |\n| Bahia               | Mulher |  7492218.7 | 14772847 | 0.5071615 |\n| Ceará               | Homem  |  4435651.4 |  9052125 | 0.4900122 |\n| Ceará               | Mulher |  4616473.6 |  9052125 | 0.5099878 |\n| Distrito Federal    | Homem  |  1427565.8 |  2956719 | 0.4828209 |\n| Distrito Federal    | Mulher |  1529153.2 |  2956719 | 0.5171791 |\n| Espírito Santo      | Homem  |  1946112.5 |  3951513 | 0.4924981 |\n| Espírito Santo      | Mulher |  2005400.5 |  3951513 | 0.5075019 |\n| Goiás               | Homem  |  3392825.9 |  6886056 | 0.4927096 |\n| Goiás               | Mulher |  3493230.1 |  6886056 | 0.5072904 |\n| Maranhão            | Homem  |  3449505.4 |  6987105 | 0.4936959 |\n| Maranhão            | Mulher |  3537599.6 |  6987105 | 0.5063041 |\n| Mato Grosso         | Homem  |  1689414.3 |  3372593 | 0.5009244 |\n| Mato Grosso         | Mulher |  1683178.7 |  3372593 | 0.4990756 |\n| Mato Grosso do Sul  | Homem  |  1322591.5 |  2667614 | 0.4957957 |\n| Mato Grosso do Sul  | Mulher |  1345022.5 |  2667614 | 0.5042043 |\n| Minas Gerais        | Homem  | 10331964.3 | 20983393 | 0.4923877 |\n| Minas Gerais        | Mulher | 10651428.7 | 20983393 | 0.5076123 |\n| Pará                | Homem  |  4203361.0 |  8440364 | 0.4980071 |\n| Pará                | Mulher |  4237003.0 |  8440364 | 0.5019929 |\n| Paraíba             | Homem  |  1914959.7 |  3966623 | 0.4827683 |\n| Paraíba             | Mulher |  2051663.3 |  3966623 | 0.5172317 |\n| Paraná              | Homem  |  5596268.5 | 11302545 | 0.4951335 |\n| Paraná              | Mulher |  5706276.5 | 11302545 | 0.5048665 |\n| Pernambuco          | Homem  |  4522243.6 |  9418424 | 0.4801487 |\n| Pernambuco          | Mulher |  4896180.4 |  9418424 | 0.5198513 |\n| Piauí               | Homem  |  1594264.3 |  3260940 | 0.4888971 |\n| Piauí               | Mulher |  1666675.7 |  3260940 | 0.5111029 |\n| Rio de Janeiro      | Homem  |  8213982.2 | 17119415 | 0.4798051 |\n| Rio de Janeiro      | Mulher |  8905432.8 | 17119415 | 0.5201949 |\n| Rio Grande do Norte | Homem  |  1699430.4 |  3468947 | 0.4898981 |\n| Rio Grande do Norte | Mulher |  1769516.6 |  3468947 | 0.5101019 |\n| Rio Grande do Sul   | Homem  |  5500910.2 | 11290787 | 0.4872034 |\n| Rio Grande do Sul   | Mulher |  5789876.8 | 11290787 | 0.5127966 |\n| Rondônia            | Homem  |   872349.8 |  1739812 | 0.5014046 |\n| Rondônia            | Mulher |   867462.2 |  1739812 | 0.4985954 |\n| Roraima             | Homem  |   253908.4 |   508058 | 0.4997627 |\n| Roraima             | Mulher |   254149.6 |   508058 | 0.5002373 |\n| Santa Catarina      | Homem  |  3506225.6 |  7029298 | 0.4988017 |\n| Santa Catarina      | Mulher |  3523072.4 |  7029298 | 0.5011983 |\n| São Paulo           | Homem  | 21967067.0 | 45385569 | 0.4840100 |\n| São Paulo           | Mulher | 23418502.0 | 45385569 | 0.5159900 |\n| Sergipe             | Homem  |  1083583.0 |  2270687 | 0.4772049 |\n| Sergipe             | Mulher |  1187104.0 |  2270687 | 0.5227951 |\n| Tocantins           | Homem  |   778680.5 |  1536176 | 0.5068954 |\n| Tocantins           | Mulher |   757495.5 |  1536176 | 0.4931046 |\n\n",
            "text/latex": "A data.frame: 54 × 5\n\\begin{tabular}{lllll}\n UF & V2007 & QTDE.x & QTDE.y & percentual\\\\\n <fct> & <fct> & <dbl> & <dbl> & <dbl>\\\\\n\\hline\n\t Acre                & Homem  &   424585.5 &   848629 & 0.5003193\\\\\n\t Acre                & Mulher &   424043.5 &   848629 & 0.4996807\\\\\n\t Alagoas             & Homem  &  1593820.0 &  3311077 & 0.4813600\\\\\n\t Alagoas             & Mulher &  1717257.0 &  3311077 & 0.5186400\\\\\n\t Amapá               & Homem  &   405149.9 &   815210 & 0.4969884\\\\\n\t Amapá               & Mulher &   410060.1 &   815210 & 0.5030116\\\\\n\t Amazonas            & Homem  &  1957947.9 &  3898488 & 0.5022326\\\\\n\t Amazonas            & Mulher &  1940540.1 &  3898488 & 0.4977674\\\\\n\t Bahia               & Homem  &  7280628.3 & 14772847 & 0.4928385\\\\\n\t Bahia               & Mulher &  7492218.7 & 14772847 & 0.5071615\\\\\n\t Ceará               & Homem  &  4435651.4 &  9052125 & 0.4900122\\\\\n\t Ceará               & Mulher &  4616473.6 &  9052125 & 0.5099878\\\\\n\t Distrito Federal    & Homem  &  1427565.8 &  2956719 & 0.4828209\\\\\n\t Distrito Federal    & Mulher &  1529153.2 &  2956719 & 0.5171791\\\\\n\t Espírito Santo      & Homem  &  1946112.5 &  3951513 & 0.4924981\\\\\n\t Espírito Santo      & Mulher &  2005400.5 &  3951513 & 0.5075019\\\\\n\t Goiás               & Homem  &  3392825.9 &  6886056 & 0.4927096\\\\\n\t Goiás               & Mulher &  3493230.1 &  6886056 & 0.5072904\\\\\n\t Maranhão            & Homem  &  3449505.4 &  6987105 & 0.4936959\\\\\n\t Maranhão            & Mulher &  3537599.6 &  6987105 & 0.5063041\\\\\n\t Mato Grosso         & Homem  &  1689414.3 &  3372593 & 0.5009244\\\\\n\t Mato Grosso         & Mulher &  1683178.7 &  3372593 & 0.4990756\\\\\n\t Mato Grosso do Sul  & Homem  &  1322591.5 &  2667614 & 0.4957957\\\\\n\t Mato Grosso do Sul  & Mulher &  1345022.5 &  2667614 & 0.5042043\\\\\n\t Minas Gerais        & Homem  & 10331964.3 & 20983393 & 0.4923877\\\\\n\t Minas Gerais        & Mulher & 10651428.7 & 20983393 & 0.5076123\\\\\n\t Pará                & Homem  &  4203361.0 &  8440364 & 0.4980071\\\\\n\t Pará                & Mulher &  4237003.0 &  8440364 & 0.5019929\\\\\n\t Paraíba             & Homem  &  1914959.7 &  3966623 & 0.4827683\\\\\n\t Paraíba             & Mulher &  2051663.3 &  3966623 & 0.5172317\\\\\n\t Paraná              & Homem  &  5596268.5 & 11302545 & 0.4951335\\\\\n\t Paraná              & Mulher &  5706276.5 & 11302545 & 0.5048665\\\\\n\t Pernambuco          & Homem  &  4522243.6 &  9418424 & 0.4801487\\\\\n\t Pernambuco          & Mulher &  4896180.4 &  9418424 & 0.5198513\\\\\n\t Piauí               & Homem  &  1594264.3 &  3260940 & 0.4888971\\\\\n\t Piauí               & Mulher &  1666675.7 &  3260940 & 0.5111029\\\\\n\t Rio de Janeiro      & Homem  &  8213982.2 & 17119415 & 0.4798051\\\\\n\t Rio de Janeiro      & Mulher &  8905432.8 & 17119415 & 0.5201949\\\\\n\t Rio Grande do Norte & Homem  &  1699430.4 &  3468947 & 0.4898981\\\\\n\t Rio Grande do Norte & Mulher &  1769516.6 &  3468947 & 0.5101019\\\\\n\t Rio Grande do Sul   & Homem  &  5500910.2 & 11290787 & 0.4872034\\\\\n\t Rio Grande do Sul   & Mulher &  5789876.8 & 11290787 & 0.5127966\\\\\n\t Rondônia            & Homem  &   872349.8 &  1739812 & 0.5014046\\\\\n\t Rondônia            & Mulher &   867462.2 &  1739812 & 0.4985954\\\\\n\t Roraima             & Homem  &   253908.4 &   508058 & 0.4997627\\\\\n\t Roraima             & Mulher &   254149.6 &   508058 & 0.5002373\\\\\n\t Santa Catarina      & Homem  &  3506225.6 &  7029298 & 0.4988017\\\\\n\t Santa Catarina      & Mulher &  3523072.4 &  7029298 & 0.5011983\\\\\n\t São Paulo           & Homem  & 21967067.0 & 45385569 & 0.4840100\\\\\n\t São Paulo           & Mulher & 23418502.0 & 45385569 & 0.5159900\\\\\n\t Sergipe             & Homem  &  1083583.0 &  2270687 & 0.4772049\\\\\n\t Sergipe             & Mulher &  1187104.0 &  2270687 & 0.5227951\\\\\n\t Tocantins           & Homem  &   778680.5 &  1536176 & 0.5068954\\\\\n\t Tocantins           & Mulher &   757495.5 &  1536176 & 0.4931046\\\\\n\\end{tabular}\n",
            "text/plain": [
              "   UF                  V2007  QTDE.x     QTDE.y   percentual\n",
              "1  Acre                Homem    424585.5   848629 0.5003193 \n",
              "2  Acre                Mulher   424043.5   848629 0.4996807 \n",
              "3  Alagoas             Homem   1593820.0  3311077 0.4813600 \n",
              "4  Alagoas             Mulher  1717257.0  3311077 0.5186400 \n",
              "5  Amapá               Homem    405149.9   815210 0.4969884 \n",
              "6  Amapá               Mulher   410060.1   815210 0.5030116 \n",
              "7  Amazonas            Homem   1957947.9  3898488 0.5022326 \n",
              "8  Amazonas            Mulher  1940540.1  3898488 0.4977674 \n",
              "9  Bahia               Homem   7280628.3 14772847 0.4928385 \n",
              "10 Bahia               Mulher  7492218.7 14772847 0.5071615 \n",
              "11 Ceará               Homem   4435651.4  9052125 0.4900122 \n",
              "12 Ceará               Mulher  4616473.6  9052125 0.5099878 \n",
              "13 Distrito Federal    Homem   1427565.8  2956719 0.4828209 \n",
              "14 Distrito Federal    Mulher  1529153.2  2956719 0.5171791 \n",
              "15 Espírito Santo      Homem   1946112.5  3951513 0.4924981 \n",
              "16 Espírito Santo      Mulher  2005400.5  3951513 0.5075019 \n",
              "17 Goiás               Homem   3392825.9  6886056 0.4927096 \n",
              "18 Goiás               Mulher  3493230.1  6886056 0.5072904 \n",
              "19 Maranhão            Homem   3449505.4  6987105 0.4936959 \n",
              "20 Maranhão            Mulher  3537599.6  6987105 0.5063041 \n",
              "21 Mato Grosso         Homem   1689414.3  3372593 0.5009244 \n",
              "22 Mato Grosso         Mulher  1683178.7  3372593 0.4990756 \n",
              "23 Mato Grosso do Sul  Homem   1322591.5  2667614 0.4957957 \n",
              "24 Mato Grosso do Sul  Mulher  1345022.5  2667614 0.5042043 \n",
              "25 Minas Gerais        Homem  10331964.3 20983393 0.4923877 \n",
              "26 Minas Gerais        Mulher 10651428.7 20983393 0.5076123 \n",
              "27 Pará                Homem   4203361.0  8440364 0.4980071 \n",
              "28 Pará                Mulher  4237003.0  8440364 0.5019929 \n",
              "29 Paraíba             Homem   1914959.7  3966623 0.4827683 \n",
              "30 Paraíba             Mulher  2051663.3  3966623 0.5172317 \n",
              "31 Paraná              Homem   5596268.5 11302545 0.4951335 \n",
              "32 Paraná              Mulher  5706276.5 11302545 0.5048665 \n",
              "33 Pernambuco          Homem   4522243.6  9418424 0.4801487 \n",
              "34 Pernambuco          Mulher  4896180.4  9418424 0.5198513 \n",
              "35 Piauí               Homem   1594264.3  3260940 0.4888971 \n",
              "36 Piauí               Mulher  1666675.7  3260940 0.5111029 \n",
              "37 Rio de Janeiro      Homem   8213982.2 17119415 0.4798051 \n",
              "38 Rio de Janeiro      Mulher  8905432.8 17119415 0.5201949 \n",
              "39 Rio Grande do Norte Homem   1699430.4  3468947 0.4898981 \n",
              "40 Rio Grande do Norte Mulher  1769516.6  3468947 0.5101019 \n",
              "41 Rio Grande do Sul   Homem   5500910.2 11290787 0.4872034 \n",
              "42 Rio Grande do Sul   Mulher  5789876.8 11290787 0.5127966 \n",
              "43 Rondônia            Homem    872349.8  1739812 0.5014046 \n",
              "44 Rondônia            Mulher   867462.2  1739812 0.4985954 \n",
              "45 Roraima             Homem    253908.4   508058 0.4997627 \n",
              "46 Roraima             Mulher   254149.6   508058 0.5002373 \n",
              "47 Santa Catarina      Homem   3506225.6  7029298 0.4988017 \n",
              "48 Santa Catarina      Mulher  3523072.4  7029298 0.5011983 \n",
              "49 São Paulo           Homem  21967067.0 45385569 0.4840100 \n",
              "50 São Paulo           Mulher 23418502.0 45385569 0.5159900 \n",
              "51 Sergipe             Homem   1083583.0  2270687 0.4772049 \n",
              "52 Sergipe             Mulher  1187104.0  2270687 0.5227951 \n",
              "53 Tocantins           Homem    778680.5  1536176 0.5068954 \n",
              "54 Tocantins           Mulher   757495.5  1536176 0.4931046 "
            ]
          },
          "metadata": {}
        }
      ]
    },
    {
      "cell_type": "code",
      "source": [
        "svyboxplot(\n",
        "  formula = VD4020~V2007,\n",
        "  design = dados_pnadc,\n",
        "  all.outliers = FALSE,\n",
        "  main = \"\",\n",
        "  xlab = \"Sexo (V2007)\",\n",
        "  ylab = \"Rendimento efetivo (VD4020)\",\n",
        "  ylim = c(0,6000)\n",
        ")"
      ],
      "metadata": {
        "colab": {
          "base_uri": "https://localhost:8080/",
          "height": 437
        },
        "id": "jzYBf-kk91O7",
        "outputId": "5e00e16c-0767-4f6f-8b8d-3d612ba9c448"
      },
      "execution_count": null,
      "outputs": [
        {
          "output_type": "display_data",
          "data": {
            "text/plain": [
              "Plot with title “”"
            ],
            "image/png": "[encoded data removed]"
          },
          "metadata": {
            "image/png": {
              "width": 420,
              "height": 420
            }
          }
        }
      ]
    },
    {
      "cell_type": "code",
      "source": [
        "svytotal(x = ~VD4001, design = dados_pnadc, na.rm = TRUE)"
      ],
      "metadata": {
        "colab": {
          "base_uri": "https://localhost:8080/",
          "height": 69
        },
        "id": "X-XU_WL4gUZW",
        "outputId": "fb9725fc-a6c8-4cf4-865b-906dd70a1c43"
      },
      "execution_count": null,
      "outputs": [
        {
          "output_type": "display_data",
          "data": {
            "text/plain": [
              "                                            total     SE\n",
              "VD4001Pessoas na força de trabalho      104750978 160365\n",
              "VD4001Pessoas fora da força de trabalho  61157756 160365"
            ]
          },
          "metadata": {}
        }
      ]
    },
    {
      "cell_type": "code",
      "source": [
        "svymean(x = ~V2007, design = dados_pnadc, na.rm = TRUE)"
      ],
      "metadata": {
        "colab": {
          "base_uri": "https://localhost:8080/",
          "height": 69
        },
        "id": "RnFh8uwGTzcX",
        "outputId": "cea47a81-8fca-4bf1-dce6-ffdebd062905"
      },
      "execution_count": null,
      "outputs": [
        {
          "output_type": "display_data",
          "data": {
            "text/plain": [
              "               mean SE\n",
              "V2007Homem  0.48912  0\n",
              "V2007Mulher 0.51088  0"
            ]
          },
          "metadata": {}
        }
      ]
    },
    {
      "cell_type": "code",
      "source": [
        "df_sexo_idade = data.frame(svytable(\n",
        "  formula = ~V2009+V2007,\n",
        "  design = dados_pnadc\n",
        "))\n",
        "\n"
      ],
      "metadata": {
        "id": "yhd--bDD3Slh"
      },
      "execution_count": null,
      "outputs": []
    },
    {
      "cell_type": "code",
      "source": [],
      "metadata": {
        "id": "xQv5fSOXicaf"
      },
      "execution_count": null,
      "outputs": []
    },
    {
      "cell_type": "code",
      "source": [
        "barplot(as.vector(cor_ou_raca), main = \"Gráfico de Barras\", xlab = \"Categorias\", ylab = \"Frequência ou Proporção\")"
      ],
      "metadata": {
        "colab": {
          "base_uri": "https://localhost:8080/",
          "height": 437
        },
        "id": "o1Knhf5v36kO",
        "outputId": "f7731d6f-5c48-4191-d195-761a6af2c22a"
      },
      "execution_count": null,
      "outputs": [
        {
          "output_type": "display_data",
          "data": {
            "text/plain": [
              "Plot with title “Gráfico de Barras”"
            ],
            "image/png": "[encoded data removed]"
          },
          "metadata": {
            "image/png": {
              "width": 420,
              "height": 420
            }
          }
        }
      ]
    },
    {
      "cell_type": "code",
      "source": [
        "subset(dados_pnadc, V2007 == \"Homem\")"
      ],
      "metadata": {
        "colab": {
          "base_uri": "https://localhost:8080/",
          "height": 52
        },
        "id": "AjIstcfN0bX6",
        "outputId": "5057b546-ac2d-4ac8-c1d0-67c4f280ff28"
      },
      "execution_count": null,
      "outputs": [
        {
          "output_type": "display_data",
          "data": {
            "text/plain": [
              "Call: subset(dados_pnadc, V2007 == \"Homem\")\n",
              "Survey bootstrap with 200 replicates and MSE variances."
            ]
          },
          "metadata": {}
        }
      ]
    },
    {
      "cell_type": "code",
      "source": [
        "svyplot(\n",
        "  formula=VD4020~VD4035,\n",
        "  design=subset(dados_pnadc, V2007 == \"Mulher\"),\n",
        "  style=\"bubble\",\n",
        "  xlab=\"Horas efetivamente trabalhadas (VD4035)\",\n",
        "  ylab=\"Rendimento Efetivo (VD4020)\",\n",
        "  ylim = c(0,50000),\n",
        "  col = \"#FF5733\")\n",
        "\n",
        "text(x = 100, y = 50000, labels = \"Mulher\", pos = 4, cex = 1.6, col = \"black\")\n",
        "#abline(h = 50000, lty = 2, col = \"blue\")"
      ],
      "metadata": {
        "colab": {
          "base_uri": "https://localhost:8080/",
          "height": 437
        },
        "id": "XkBEaNv3v5UD",
        "outputId": "4b8129ae-0347-4bf4-a98d-00f7b2c4354d"
      },
      "execution_count": null,
      "outputs": [
        {
          "output_type": "display_data",
          "data": {
            "text/plain": [
              "plot without title"
            ],
            "image/png": "[encoded data removed]"
          },
          "metadata": {
            "image/png": {
              "width": 420,
              "height": 420
            }
          }
        }
      ]
    },
    {
      "cell_type": "code",
      "source": [
        "taxa_desocupacao = svyratio(\n",
        "  numerator = ~(VD4002 == \"Pessoas desocupadas\"),\n",
        "  denominator = ~(VD4001 == \"Pessoas na força de trabalho\"),\n",
        "  design = dados_pnadc,\n",
        "  na.rm = TRUE)"
      ],
      "metadata": {
        "id": "xtNG3Y2JJtOL"
      },
      "execution_count": null,
      "outputs": []
    },
    {
      "cell_type": "code",
      "source": [
        "taxa_desocupacao"
      ],
      "metadata": {
        "colab": {
          "base_uri": "https://localhost:8080/",
          "height": 191
        },
        "id": "deuRy8QUKouY",
        "outputId": "3d9e3805-0d9a-4c23-e9e0-7831b716aac8"
      },
      "execution_count": null,
      "outputs": [
        {
          "output_type": "display_data",
          "data": {
            "text/plain": [
              "Ratio estimator: svyratio.svyrep.design(numerator = ~(VD4002 == \"Pessoas desocupadas\"), \n",
              "    denominator = ~(VD4001 == \"Pessoas na força de trabalho\"), \n",
              "    design = dados_pnadc, na.rm = TRUE)\n",
              "Ratios=\n",
              "                                VD4001 == \"Pessoas na força de trabalho\"\n",
              "VD4002 == \"Pessoas desocupadas\"                                0.1324301\n",
              "SEs=\n",
              "            [,1]\n",
              "[1,] 0.001179026"
            ]
          },
          "metadata": {}
        }
      ]
    },
    {
      "cell_type": "code",
      "source": [
        "cv(object = taxa_desocupacao)"
      ],
      "metadata": {
        "colab": {
          "base_uri": "https://localhost:8080/",
          "height": 98
        },
        "id": "xrOZ3l2dKi-3",
        "outputId": "6381dbaf-64d6-48eb-f510-34d4b1bcb704"
      },
      "execution_count": null,
      "outputs": [
        {
          "output_type": "display_data",
          "data": {
            "text/html": [
              "<table class=\"dataframe\">\n",
              "<caption>A matrix: 1 × 1 of type dbl</caption>\n",
              "<thead>\n",
              "\t<tr><th></th><th scope=col>VD4001 == \"Pessoas na força de trabalho\"</th></tr>\n",
              "</thead>\n",
              "<tbody>\n",
              "\t<tr><th scope=row>VD4002 == \"Pessoas desocupadas\"</th><td>0.008903003</td></tr>\n",
              "</tbody>\n",
              "</table>\n"
            ],
            "text/markdown": "\nA matrix: 1 × 1 of type dbl\n\n| <!--/--> | VD4001 == \"Pessoas na força de trabalho\" |\n|---|---|\n| VD4002 == \"Pessoas desocupadas\" | 0.008903003 |\n\n",
            "text/latex": "A matrix: 1 × 1 of type dbl\n\\begin{tabular}{r|l}\n  & VD4001 == \"Pessoas na força de trabalho\"\\\\\n\\hline\n\tVD4002 == \"Pessoas desocupadas\" & 0.008903003\\\\\n\\end{tabular}\n",
            "text/plain": [
              "                                VD4001 == \"Pessoas na força de trabalho\"\n",
              "VD4002 == \"Pessoas desocupadas\" 0.008903003                             "
            ]
          },
          "metadata": {}
        }
      ]
    },
    {
      "cell_type": "markdown",
      "source": [
        "## **Indicadores do Mercado de Trabalho**"
      ],
      "metadata": {
        "id": "KSXusH8ChLmB"
      }
    },
    {
      "cell_type": "code",
      "source": [
        "install.packages(\"expss\")\n",
        "library(expss)"
      ],
      "metadata": {
        "colab": {
          "base_uri": "https://localhost:8080/"
        },
        "id": "XVvVUacMO53J",
        "outputId": "e161f657-fee6-43f8-ab6a-f40f75203a03",
        "collapsed": true
      },
      "execution_count": null,
      "outputs": [
        {
          "output_type": "stream",
          "name": "stderr",
          "text": [
            "Installing package into ‘/usr/local/lib/R/site-library’\n",
            "(as ‘lib’ is unspecified)\n",
            "\n",
            "also installing the dependencies ‘checkmate’, ‘htmlwidgets’, ‘maditr’, ‘htmlTable’, ‘matrixStats’\n",
            "\n",
            "\n",
            "Loading required package: maditr\n",
            "\n",
            "\n",
            "To select rows from data: rows(mtcars, am==0)\n",
            "\n",
            "\n",
            "\n",
            "Attaching package: ‘maditr’\n",
            "\n",
            "\n",
            "The following objects are masked from ‘package:dplyr’:\n",
            "\n",
            "    between, coalesce, first, last\n",
            "\n",
            "\n",
            "The following object is masked from ‘package:purrr’:\n",
            "\n",
            "    transpose\n",
            "\n",
            "\n",
            "The following object is masked from ‘package:readr’:\n",
            "\n",
            "    cols\n",
            "\n",
            "\n",
            "The following object is masked from ‘package:base’:\n",
            "\n",
            "    sort_by\n",
            "\n",
            "\n",
            "\n",
            "Use 'expss_output_rnotebook()' to display tables inside R Notebooks.\n",
            " To return to the console output, use 'expss_output_default()'.\n",
            "\n",
            "\n",
            "\n",
            "Attaching package: ‘expss’\n",
            "\n",
            "\n",
            "The following objects are masked from ‘package:stringr’:\n",
            "\n",
            "    fixed, regex\n",
            "\n",
            "\n",
            "The following objects are masked from ‘package:dplyr’:\n",
            "\n",
            "    compute, contains, na_if, recode, vars, where\n",
            "\n",
            "\n",
            "The following objects are masked from ‘package:purrr’:\n",
            "\n",
            "    keep, modify, modify_if, when\n",
            "\n",
            "\n",
            "The following objects are masked from ‘package:tidyr’:\n",
            "\n",
            "    contains, nest\n",
            "\n",
            "\n",
            "The following object is masked from ‘package:ggplot2’:\n",
            "\n",
            "    vars\n",
            "\n",
            "\n"
          ]
        }
      ]
    },
    {
      "cell_type": "code",
      "source": [
        "indicadores_mt = dados_pnadc$variables %>%\n",
        " tab_cells(UF) %>%\n",
        " tab_cols(VD4002, VD4003, VD4004A, VD4005) %>%\n",
        " tab_weight(weight = V1028) %>%\n",
        " tab_stat_cases(total_statistic = \"w_cases\",\n",
        " total_label = \"Total\") %>%\n",
        " tab_pivot()\n",
        "\n",
        "df1 = as.data.frame(indicadores_mt[1:14,])\n",
        "df2 = as.data.frame(indicadores_mt[15:27,])\n",
        "indicadores_mt = rbind.data.frame(df1, df2)\n",
        "\n",
        "colnames(indicadores_mt) = c(\"UF\", \"ocup\", \"desocup\", \"ftp\", \"fft\", \"subocup\", \"desalent\")\n",
        "indicadores_mt =\n",
        "  indicadores_mt %>%\n",
        "    mutate(tx_desocup = desocup/(ocup+desocup)*100,\n",
        "      tx_comb_subocup = (desocup+subocup)/(ocup+desocup)*100,\n",
        "      tx_comb_ftp = (desocup+ftp)/(ocup+desocup+ftp)*100,\n",
        "      tx_comp_subut = (desocup+subocup+ftp)/(ocup+desocup+ftp)*100,\n",
        "      tx_desal_fta = (desalent)/(ocup+desocup+ftp)*100,\n",
        "      pc_desal_fft = (desalent)/(fft+ ftp)*100,\n",
        "      pc_desal_ftp = (desalent)/(ftp)*100)\n",
        "\n",
        "indicadores_mt =\n",
        "  indicadores_mt %>%\n",
        "    select(UF, tx_desocup, tx_comb_subocup, tx_comb_ftp, tx_comp_subut, tx_desal_fta, pc_desal_fft, pc_desal_ftp)\n",
        "\n",
        "siglas_rg = c(rep(\"N\", 7),rep(\"NE\", 9), rep(\"SE\", 4), rep(\"S\", 3), rep(\"CO\", 4))\n",
        "siglas_uf = c(\"RO\", \"AC\", \"AM\", \"RR\", \"PA\", \"AP\", \"TO\", \"MA\", \"PI\", \"CE\", \"RN\", \"PB\", \"PE\", \"AL\", \"SE\", \"BA\", \"MG\", \"ES\", \"RJ\", \"SP\", \"PR\", \"SC\", \"RS\", \"MS\", \"MT\", \"GO\", \"DF\")\n",
        "indicadores_mt$UF = siglas_uf\n",
        "indicadores_mt$rg = siglas_rg\n",
        "indicadores_mt"
      ],
      "metadata": {
        "colab": {
          "base_uri": "https://localhost:8080/",
          "height": 944
        },
        "id": "VcUZyLg2V2TL",
        "outputId": "81588712-37cf-40a8-8283-b8610856491c"
      },
      "execution_count": null,
      "outputs": [
        {
          "output_type": "display_data",
          "data": {
            "text/html": [
              "<table class=\"dataframe\">\n",
              "<caption>A data.frame: 27 × 9</caption>\n",
              "<thead>\n",
              "\t<tr><th></th><th scope=col>UF</th><th scope=col>tx_desocup</th><th scope=col>tx_comb_subocup</th><th scope=col>tx_comb_ftp</th><th scope=col>tx_comp_subut</th><th scope=col>tx_desal_fta</th><th scope=col>pc_desal_fft</th><th scope=col>pc_desal_ftp</th><th scope=col>rg</th></tr>\n",
              "\t<tr><th></th><th scope=col>&lt;chr&gt;</th><th scope=col>&lt;dbl&gt;</th><th scope=col>&lt;dbl&gt;</th><th scope=col>&lt;dbl&gt;</th><th scope=col>&lt;dbl&gt;</th><th scope=col>&lt;dbl&gt;</th><th scope=col>&lt;dbl&gt;</th><th scope=col>&lt;dbl&gt;</th><th scope=col>&lt;chr&gt;</th></tr>\n",
              "</thead>\n",
              "<tbody>\n",
              "\t<tr><th scope=row>1</th><td>RO</td><td>10.562150</td><td>14.83572</td><td>13.885932</td><td>18.00069</td><td> 2.2749963</td><td> 4.078903</td><td>61.21664</td><td>N </td></tr>\n",
              "\t<tr><th scope=row>2</th><td>AC</td><td>14.631468</td><td>20.74318</td><td>25.239854</td><td>30.59209</td><td> 7.5466301</td><td>11.882124</td><td>60.72976</td><td>N </td></tr>\n",
              "\t<tr><th scope=row>3</th><td>AM</td><td>14.007380</td><td>19.35905</td><td>21.917008</td><td>26.77643</td><td> 5.1532439</td><td> 9.265327</td><td>56.02551</td><td>N </td></tr>\n",
              "\t<tr><th scope=row>4</th><td>RR</td><td>10.504836</td><td>15.00015</td><td>19.159044</td><td>23.21966</td><td> 5.6709404</td><td>10.733382</td><td>58.64450</td><td>N </td></tr>\n",
              "\t<tr><th scope=row>5</th><td>PA</td><td>12.281720</td><td>22.32309</td><td>24.077665</td><td>32.76872</td><td> 7.2392301</td><td>12.269477</td><td>53.83315</td><td>N </td></tr>\n",
              "\t<tr><th scope=row>6</th><td>AP</td><td>21.704703</td><td>25.96543</td><td>27.989765</td><td>31.90847</td><td> 4.2429378</td><td> 7.508425</td><td>52.85581</td><td>N </td></tr>\n",
              "\t<tr><th scope=row>7</th><td>TO</td><td>11.048851</td><td>16.11585</td><td>18.198781</td><td>22.85849</td><td> 4.7804005</td><td> 7.603282</td><td>59.47221</td><td>N </td></tr>\n",
              "\t<tr><th scope=row>8</th><td>MA</td><td>15.774816</td><td>24.80308</td><td>30.190994</td><td>37.67396</td><td>13.3139967</td><td>17.052405</td><td>77.78579</td><td>NE</td></tr>\n",
              "\t<tr><th scope=row>9</th><td>PI</td><td>13.329969</td><td>28.63192</td><td>27.046432</td><td>39.92669</td><td>11.1494377</td><td>16.181235</td><td>70.44980</td><td>NE</td></tr>\n",
              "\t<tr><th scope=row>10</th><td>CE</td><td>12.931611</td><td>22.13482</td><td>22.537955</td><td>30.72576</td><td> 7.1508425</td><td>10.748966</td><td>64.81262</td><td>NE</td></tr>\n",
              "\t<tr><th scope=row>11</th><td>RN</td><td>15.092473</td><td>25.39360</td><td>27.500075</td><td>36.29589</td><td>10.0147338</td><td>14.190961</td><td>68.53269</td><td>NE</td></tr>\n",
              "\t<tr><th scope=row>12</th><td>PB</td><td>11.903543</td><td>22.19867</td><td>23.818545</td><td>32.72126</td><td>10.2842229</td><td>14.390949</td><td>76.03890</td><td>NE</td></tr>\n",
              "\t<tr><th scope=row>13</th><td>PE</td><td>17.963361</td><td>26.82550</td><td>25.973393</td><td>33.97023</td><td> 6.9586937</td><td>10.026520</td><td>71.26911</td><td>NE</td></tr>\n",
              "\t<tr><th scope=row>14</th><td>AL</td><td>17.964164</td><td>23.39406</td><td>34.061338</td><td>38.42577</td><td>16.9938790</td><td>16.871899</td><td>86.60570</td><td>NE</td></tr>\n",
              "\t<tr><th scope=row>15</th><td>SE</td><td>17.225267</td><td>29.47836</td><td>25.903486</td><td>36.87194</td><td> 8.2542420</td><td>13.078598</td><td>78.73075</td><td>NE</td></tr>\n",
              "\t<tr><th scope=row>16</th><td>BA</td><td>18.095607</td><td>31.20410</td><td>29.313694</td><td>40.62677</td><td> 9.5286029</td><td>16.269076</td><td>69.56929</td><td>NE</td></tr>\n",
              "\t<tr><th scope=row>17</th><td>MG</td><td>12.673427</td><td>19.16124</td><td>18.297939</td><td>24.36788</td><td> 3.3672537</td><td> 6.832262</td><td>52.28022</td><td>SE</td></tr>\n",
              "\t<tr><th scope=row>18</th><td>ES</td><td>12.705432</td><td>16.62513</td><td>16.405352</td><td>20.15892</td><td> 1.7679864</td><td> 3.551800</td><td>41.71324</td><td>SE</td></tr>\n",
              "\t<tr><th scope=row>19</th><td>RJ</td><td>15.135674</td><td>17.28706</td><td>16.976093</td><td>19.08082</td><td> 0.7951344</td><td> 1.310208</td><td>36.66477</td><td>SE</td></tr>\n",
              "\t<tr><th scope=row>20</th><td>SP</td><td>14.132102</td><td>18.18274</td><td>17.188504</td><td>21.09496</td><td> 1.4853476</td><td> 3.428994</td><td>41.73002</td><td>SE</td></tr>\n",
              "\t<tr><th scope=row>21</th><td>PR</td><td> 9.656143</td><td>14.16307</td><td>13.192856</td><td>17.52335</td><td> 1.4253027</td><td> 2.858779</td><td>36.40876</td><td>S </td></tr>\n",
              "\t<tr><th scope=row>22</th><td>SC</td><td> 6.557059</td><td> 8.87041</td><td> 8.466667</td><td>10.73274</td><td> 0.7458037</td><td> 1.560264</td><td>36.49444</td><td>S </td></tr>\n",
              "\t<tr><th scope=row>23</th><td>RS</td><td> 8.587558</td><td>12.92519</td><td>11.356937</td><td>15.56316</td><td> 1.0225313</td><td> 1.979745</td><td>33.75200</td><td>S </td></tr>\n",
              "\t<tr><th scope=row>24</th><td>MS</td><td> 8.509998</td><td>12.52197</td><td>13.862498</td><td>17.63976</td><td> 2.4979138</td><td> 5.437172</td><td>42.69671</td><td>CO</td></tr>\n",
              "\t<tr><th scope=row>25</th><td>MT</td><td> 9.455799</td><td>12.42919</td><td>13.285277</td><td>16.13292</td><td> 2.1672524</td><td> 4.293401</td><td>51.24254</td><td>CO</td></tr>\n",
              "\t<tr><th scope=row>26</th><td>GO</td><td>10.378141</td><td>14.41325</td><td>14.226496</td><td>18.08834</td><td> 1.9685680</td><td> 4.116494</td><td>45.84472</td><td>CO</td></tr>\n",
              "\t<tr><th scope=row>27</th><td>DF</td><td>14.077898</td><td>17.72192</td><td>18.382830</td><td>21.84428</td><td> 1.5966083</td><td> 3.382230</td><td>31.86669</td><td>CO</td></tr>\n",
              "</tbody>\n",
              "</table>\n"
            ],
            "text/markdown": "\nA data.frame: 27 × 9\n\n| <!--/--> | UF &lt;chr&gt; | tx_desocup &lt;dbl&gt; | tx_comb_subocup &lt;dbl&gt; | tx_comb_ftp &lt;dbl&gt; | tx_comp_subut &lt;dbl&gt; | tx_desal_fta &lt;dbl&gt; | pc_desal_fft &lt;dbl&gt; | pc_desal_ftp &lt;dbl&gt; | rg &lt;chr&gt; |\n|---|---|---|---|---|---|---|---|---|---|\n| 1 | RO | 10.562150 | 14.83572 | 13.885932 | 18.00069 |  2.2749963 |  4.078903 | 61.21664 | N  |\n| 2 | AC | 14.631468 | 20.74318 | 25.239854 | 30.59209 |  7.5466301 | 11.882124 | 60.72976 | N  |\n| 3 | AM | 14.007380 | 19.35905 | 21.917008 | 26.77643 |  5.1532439 |  9.265327 | 56.02551 | N  |\n| 4 | RR | 10.504836 | 15.00015 | 19.159044 | 23.21966 |  5.6709404 | 10.733382 | 58.64450 | N  |\n| 5 | PA | 12.281720 | 22.32309 | 24.077665 | 32.76872 |  7.2392301 | 12.269477 | 53.83315 | N  |\n| 6 | AP | 21.704703 | 25.96543 | 27.989765 | 31.90847 |  4.2429378 |  7.508425 | 52.85581 | N  |\n| 7 | TO | 11.048851 | 16.11585 | 18.198781 | 22.85849 |  4.7804005 |  7.603282 | 59.47221 | N  |\n| 8 | MA | 15.774816 | 24.80308 | 30.190994 | 37.67396 | 13.3139967 | 17.052405 | 77.78579 | NE |\n| 9 | PI | 13.329969 | 28.63192 | 27.046432 | 39.92669 | 11.1494377 | 16.181235 | 70.44980 | NE |\n| 10 | CE | 12.931611 | 22.13482 | 22.537955 | 30.72576 |  7.1508425 | 10.748966 | 64.81262 | NE |\n| 11 | RN | 15.092473 | 25.39360 | 27.500075 | 36.29589 | 10.0147338 | 14.190961 | 68.53269 | NE |\n| 12 | PB | 11.903543 | 22.19867 | 23.818545 | 32.72126 | 10.2842229 | 14.390949 | 76.03890 | NE |\n| 13 | PE | 17.963361 | 26.82550 | 25.973393 | 33.97023 |  6.9586937 | 10.026520 | 71.26911 | NE |\n| 14 | AL | 17.964164 | 23.39406 | 34.061338 | 38.42577 | 16.9938790 | 16.871899 | 86.60570 | NE |\n| 15 | SE | 17.225267 | 29.47836 | 25.903486 | 36.87194 |  8.2542420 | 13.078598 | 78.73075 | NE |\n| 16 | BA | 18.095607 | 31.20410 | 29.313694 | 40.62677 |  9.5286029 | 16.269076 | 69.56929 | NE |\n| 17 | MG | 12.673427 | 19.16124 | 18.297939 | 24.36788 |  3.3672537 |  6.832262 | 52.28022 | SE |\n| 18 | ES | 12.705432 | 16.62513 | 16.405352 | 20.15892 |  1.7679864 |  3.551800 | 41.71324 | SE |\n| 19 | RJ | 15.135674 | 17.28706 | 16.976093 | 19.08082 |  0.7951344 |  1.310208 | 36.66477 | SE |\n| 20 | SP | 14.132102 | 18.18274 | 17.188504 | 21.09496 |  1.4853476 |  3.428994 | 41.73002 | SE |\n| 21 | PR |  9.656143 | 14.16307 | 13.192856 | 17.52335 |  1.4253027 |  2.858779 | 36.40876 | S  |\n| 22 | SC |  6.557059 |  8.87041 |  8.466667 | 10.73274 |  0.7458037 |  1.560264 | 36.49444 | S  |\n| 23 | RS |  8.587558 | 12.92519 | 11.356937 | 15.56316 |  1.0225313 |  1.979745 | 33.75200 | S  |\n| 24 | MS |  8.509998 | 12.52197 | 13.862498 | 17.63976 |  2.4979138 |  5.437172 | 42.69671 | CO |\n| 25 | MT |  9.455799 | 12.42919 | 13.285277 | 16.13292 |  2.1672524 |  4.293401 | 51.24254 | CO |\n| 26 | GO | 10.378141 | 14.41325 | 14.226496 | 18.08834 |  1.9685680 |  4.116494 | 45.84472 | CO |\n| 27 | DF | 14.077898 | 17.72192 | 18.382830 | 21.84428 |  1.5966083 |  3.382230 | 31.86669 | CO |\n\n",
            "text/latex": "A data.frame: 27 × 9\n\\begin{tabular}{r|lllllllll}\n  & UF & tx\\_desocup & tx\\_comb\\_subocup & tx\\_comb\\_ftp & tx\\_comp\\_subut & tx\\_desal\\_fta & pc\\_desal\\_fft & pc\\_desal\\_ftp & rg\\\\\n  & <chr> & <dbl> & <dbl> & <dbl> & <dbl> & <dbl> & <dbl> & <dbl> & <chr>\\\\\n\\hline\n\t1 & RO & 10.562150 & 14.83572 & 13.885932 & 18.00069 &  2.2749963 &  4.078903 & 61.21664 & N \\\\\n\t2 & AC & 14.631468 & 20.74318 & 25.239854 & 30.59209 &  7.5466301 & 11.882124 & 60.72976 & N \\\\\n\t3 & AM & 14.007380 & 19.35905 & 21.917008 & 26.77643 &  5.1532439 &  9.265327 & 56.02551 & N \\\\\n\t4 & RR & 10.504836 & 15.00015 & 19.159044 & 23.21966 &  5.6709404 & 10.733382 & 58.64450 & N \\\\\n\t5 & PA & 12.281720 & 22.32309 & 24.077665 & 32.76872 &  7.2392301 & 12.269477 & 53.83315 & N \\\\\n\t6 & AP & 21.704703 & 25.96543 & 27.989765 & 31.90847 &  4.2429378 &  7.508425 & 52.85581 & N \\\\\n\t7 & TO & 11.048851 & 16.11585 & 18.198781 & 22.85849 &  4.7804005 &  7.603282 & 59.47221 & N \\\\\n\t8 & MA & 15.774816 & 24.80308 & 30.190994 & 37.67396 & 13.3139967 & 17.052405 & 77.78579 & NE\\\\\n\t9 & PI & 13.329969 & 28.63192 & 27.046432 & 39.92669 & 11.1494377 & 16.181235 & 70.44980 & NE\\\\\n\t10 & CE & 12.931611 & 22.13482 & 22.537955 & 30.72576 &  7.1508425 & 10.748966 & 64.81262 & NE\\\\\n\t11 & RN & 15.092473 & 25.39360 & 27.500075 & 36.29589 & 10.0147338 & 14.190961 & 68.53269 & NE\\\\\n\t12 & PB & 11.903543 & 22.19867 & 23.818545 & 32.72126 & 10.2842229 & 14.390949 & 76.03890 & NE\\\\\n\t13 & PE & 17.963361 & 26.82550 & 25.973393 & 33.97023 &  6.9586937 & 10.026520 & 71.26911 & NE\\\\\n\t14 & AL & 17.964164 & 23.39406 & 34.061338 & 38.42577 & 16.9938790 & 16.871899 & 86.60570 & NE\\\\\n\t15 & SE & 17.225267 & 29.47836 & 25.903486 & 36.87194 &  8.2542420 & 13.078598 & 78.73075 & NE\\\\\n\t16 & BA & 18.095607 & 31.20410 & 29.313694 & 40.62677 &  9.5286029 & 16.269076 & 69.56929 & NE\\\\\n\t17 & MG & 12.673427 & 19.16124 & 18.297939 & 24.36788 &  3.3672537 &  6.832262 & 52.28022 & SE\\\\\n\t18 & ES & 12.705432 & 16.62513 & 16.405352 & 20.15892 &  1.7679864 &  3.551800 & 41.71324 & SE\\\\\n\t19 & RJ & 15.135674 & 17.28706 & 16.976093 & 19.08082 &  0.7951344 &  1.310208 & 36.66477 & SE\\\\\n\t20 & SP & 14.132102 & 18.18274 & 17.188504 & 21.09496 &  1.4853476 &  3.428994 & 41.73002 & SE\\\\\n\t21 & PR &  9.656143 & 14.16307 & 13.192856 & 17.52335 &  1.4253027 &  2.858779 & 36.40876 & S \\\\\n\t22 & SC &  6.557059 &  8.87041 &  8.466667 & 10.73274 &  0.7458037 &  1.560264 & 36.49444 & S \\\\\n\t23 & RS &  8.587558 & 12.92519 & 11.356937 & 15.56316 &  1.0225313 &  1.979745 & 33.75200 & S \\\\\n\t24 & MS &  8.509998 & 12.52197 & 13.862498 & 17.63976 &  2.4979138 &  5.437172 & 42.69671 & CO\\\\\n\t25 & MT &  9.455799 & 12.42919 & 13.285277 & 16.13292 &  2.1672524 &  4.293401 & 51.24254 & CO\\\\\n\t26 & GO & 10.378141 & 14.41325 & 14.226496 & 18.08834 &  1.9685680 &  4.116494 & 45.84472 & CO\\\\\n\t27 & DF & 14.077898 & 17.72192 & 18.382830 & 21.84428 &  1.5966083 &  3.382230 & 31.86669 & CO\\\\\n\\end{tabular}\n",
            "text/plain": [
              "   UF tx_desocup tx_comb_subocup tx_comb_ftp tx_comp_subut tx_desal_fta\n",
              "1  RO 10.562150  14.83572        13.885932   18.00069       2.2749963  \n",
              "2  AC 14.631468  20.74318        25.239854   30.59209       7.5466301  \n",
              "3  AM 14.007380  19.35905        21.917008   26.77643       5.1532439  \n",
              "4  RR 10.504836  15.00015        19.159044   23.21966       5.6709404  \n",
              "5  PA 12.281720  22.32309        24.077665   32.76872       7.2392301  \n",
              "6  AP 21.704703  25.96543        27.989765   31.90847       4.2429378  \n",
              "7  TO 11.048851  16.11585        18.198781   22.85849       4.7804005  \n",
              "8  MA 15.774816  24.80308        30.190994   37.67396      13.3139967  \n",
              "9  PI 13.329969  28.63192        27.046432   39.92669      11.1494377  \n",
              "10 CE 12.931611  22.13482        22.537955   30.72576       7.1508425  \n",
              "11 RN 15.092473  25.39360        27.500075   36.29589      10.0147338  \n",
              "12 PB 11.903543  22.19867        23.818545   32.72126      10.2842229  \n",
              "13 PE 17.963361  26.82550        25.973393   33.97023       6.9586937  \n",
              "14 AL 17.964164  23.39406        34.061338   38.42577      16.9938790  \n",
              "15 SE 17.225267  29.47836        25.903486   36.87194       8.2542420  \n",
              "16 BA 18.095607  31.20410        29.313694   40.62677       9.5286029  \n",
              "17 MG 12.673427  19.16124        18.297939   24.36788       3.3672537  \n",
              "18 ES 12.705432  16.62513        16.405352   20.15892       1.7679864  \n",
              "19 RJ 15.135674  17.28706        16.976093   19.08082       0.7951344  \n",
              "20 SP 14.132102  18.18274        17.188504   21.09496       1.4853476  \n",
              "21 PR  9.656143  14.16307        13.192856   17.52335       1.4253027  \n",
              "22 SC  6.557059   8.87041         8.466667   10.73274       0.7458037  \n",
              "23 RS  8.587558  12.92519        11.356937   15.56316       1.0225313  \n",
              "24 MS  8.509998  12.52197        13.862498   17.63976       2.4979138  \n",
              "25 MT  9.455799  12.42919        13.285277   16.13292       2.1672524  \n",
              "26 GO 10.378141  14.41325        14.226496   18.08834       1.9685680  \n",
              "27 DF 14.077898  17.72192        18.382830   21.84428       1.5966083  \n",
              "   pc_desal_fft pc_desal_ftp rg\n",
              "1   4.078903    61.21664     N \n",
              "2  11.882124    60.72976     N \n",
              "3   9.265327    56.02551     N \n",
              "4  10.733382    58.64450     N \n",
              "5  12.269477    53.83315     N \n",
              "6   7.508425    52.85581     N \n",
              "7   7.603282    59.47221     N \n",
              "8  17.052405    77.78579     NE\n",
              "9  16.181235    70.44980     NE\n",
              "10 10.748966    64.81262     NE\n",
              "11 14.190961    68.53269     NE\n",
              "12 14.390949    76.03890     NE\n",
              "13 10.026520    71.26911     NE\n",
              "14 16.871899    86.60570     NE\n",
              "15 13.078598    78.73075     NE\n",
              "16 16.269076    69.56929     NE\n",
              "17  6.832262    52.28022     SE\n",
              "18  3.551800    41.71324     SE\n",
              "19  1.310208    36.66477     SE\n",
              "20  3.428994    41.73002     SE\n",
              "21  2.858779    36.40876     S \n",
              "22  1.560264    36.49444     S \n",
              "23  1.979745    33.75200     S \n",
              "24  5.437172    42.69671     CO\n",
              "25  4.293401    51.24254     CO\n",
              "26  4.116494    45.84472     CO\n",
              "27  3.382230    31.86669     CO"
            ]
          },
          "metadata": {}
        }
      ]
    },
    {
      "cell_type": "code",
      "source": [
        "(df_plot = indicadores_mt %>%\n",
        "  select(UF,rg , tx_desocup) %>%\n",
        "  mutate(rg = factor(rg, levels = c(\"N\", \"NE\", \"CO\", \"S\", \"SE\"))) %>%\n",
        "  arrange(rg, UF) %>%\n",
        "  mutate(UF = factor(UF, levels = UF)))"
      ],
      "metadata": {
        "id": "3gCkCX-ww8UL",
        "colab": {
          "base_uri": "https://localhost:8080/",
          "height": 944
        },
        "outputId": "e6551ffb-415c-4e59-ede4-8cb7b45caca0"
      },
      "execution_count": null,
      "outputs": [
        {
          "output_type": "display_data",
          "data": {
            "text/html": [
              "<table class=\"dataframe\">\n",
              "<caption>A data.frame: 27 × 3</caption>\n",
              "<thead>\n",
              "\t<tr><th scope=col>UF</th><th scope=col>rg</th><th scope=col>tx_desocup</th></tr>\n",
              "\t<tr><th scope=col>&lt;fct&gt;</th><th scope=col>&lt;fct&gt;</th><th scope=col>&lt;dbl&gt;</th></tr>\n",
              "</thead>\n",
              "<tbody>\n",
              "\t<tr><td>AC</td><td>N </td><td>14.631468</td></tr>\n",
              "\t<tr><td>AM</td><td>N </td><td>14.007380</td></tr>\n",
              "\t<tr><td>AP</td><td>N </td><td>21.704703</td></tr>\n",
              "\t<tr><td>PA</td><td>N </td><td>12.281720</td></tr>\n",
              "\t<tr><td>RO</td><td>N </td><td>10.562150</td></tr>\n",
              "\t<tr><td>RR</td><td>N </td><td>10.504836</td></tr>\n",
              "\t<tr><td>TO</td><td>N </td><td>11.048851</td></tr>\n",
              "\t<tr><td>AL</td><td>NE</td><td>17.964164</td></tr>\n",
              "\t<tr><td>BA</td><td>NE</td><td>18.095607</td></tr>\n",
              "\t<tr><td>CE</td><td>NE</td><td>12.931611</td></tr>\n",
              "\t<tr><td>MA</td><td>NE</td><td>15.774816</td></tr>\n",
              "\t<tr><td>PB</td><td>NE</td><td>11.903543</td></tr>\n",
              "\t<tr><td>PE</td><td>NE</td><td>17.963361</td></tr>\n",
              "\t<tr><td>PI</td><td>NE</td><td>13.329969</td></tr>\n",
              "\t<tr><td>RN</td><td>NE</td><td>15.092473</td></tr>\n",
              "\t<tr><td>SE</td><td>NE</td><td>17.225267</td></tr>\n",
              "\t<tr><td>DF</td><td>CO</td><td>14.077898</td></tr>\n",
              "\t<tr><td>GO</td><td>CO</td><td>10.378141</td></tr>\n",
              "\t<tr><td>MS</td><td>CO</td><td> 8.509998</td></tr>\n",
              "\t<tr><td>MT</td><td>CO</td><td> 9.455799</td></tr>\n",
              "\t<tr><td>PR</td><td>S </td><td> 9.656143</td></tr>\n",
              "\t<tr><td>RS</td><td>S </td><td> 8.587558</td></tr>\n",
              "\t<tr><td>SC</td><td>S </td><td> 6.557059</td></tr>\n",
              "\t<tr><td>ES</td><td>SE</td><td>12.705432</td></tr>\n",
              "\t<tr><td>MG</td><td>SE</td><td>12.673427</td></tr>\n",
              "\t<tr><td>RJ</td><td>SE</td><td>15.135674</td></tr>\n",
              "\t<tr><td>SP</td><td>SE</td><td>14.132102</td></tr>\n",
              "</tbody>\n",
              "</table>\n"
            ],
            "text/markdown": "\nA data.frame: 27 × 3\n\n| UF &lt;fct&gt; | rg &lt;fct&gt; | tx_desocup &lt;dbl&gt; |\n|---|---|---|\n| AC | N  | 14.631468 |\n| AM | N  | 14.007380 |\n| AP | N  | 21.704703 |\n| PA | N  | 12.281720 |\n| RO | N  | 10.562150 |\n| RR | N  | 10.504836 |\n| TO | N  | 11.048851 |\n| AL | NE | 17.964164 |\n| BA | NE | 18.095607 |\n| CE | NE | 12.931611 |\n| MA | NE | 15.774816 |\n| PB | NE | 11.903543 |\n| PE | NE | 17.963361 |\n| PI | NE | 13.329969 |\n| RN | NE | 15.092473 |\n| SE | NE | 17.225267 |\n| DF | CO | 14.077898 |\n| GO | CO | 10.378141 |\n| MS | CO |  8.509998 |\n| MT | CO |  9.455799 |\n| PR | S  |  9.656143 |\n| RS | S  |  8.587558 |\n| SC | S  |  6.557059 |\n| ES | SE | 12.705432 |\n| MG | SE | 12.673427 |\n| RJ | SE | 15.135674 |\n| SP | SE | 14.132102 |\n\n",
            "text/latex": "A data.frame: 27 × 3\n\\begin{tabular}{lll}\n UF & rg & tx\\_desocup\\\\\n <fct> & <fct> & <dbl>\\\\\n\\hline\n\t AC & N  & 14.631468\\\\\n\t AM & N  & 14.007380\\\\\n\t AP & N  & 21.704703\\\\\n\t PA & N  & 12.281720\\\\\n\t RO & N  & 10.562150\\\\\n\t RR & N  & 10.504836\\\\\n\t TO & N  & 11.048851\\\\\n\t AL & NE & 17.964164\\\\\n\t BA & NE & 18.095607\\\\\n\t CE & NE & 12.931611\\\\\n\t MA & NE & 15.774816\\\\\n\t PB & NE & 11.903543\\\\\n\t PE & NE & 17.963361\\\\\n\t PI & NE & 13.329969\\\\\n\t RN & NE & 15.092473\\\\\n\t SE & NE & 17.225267\\\\\n\t DF & CO & 14.077898\\\\\n\t GO & CO & 10.378141\\\\\n\t MS & CO &  8.509998\\\\\n\t MT & CO &  9.455799\\\\\n\t PR & S  &  9.656143\\\\\n\t RS & S  &  8.587558\\\\\n\t SC & S  &  6.557059\\\\\n\t ES & SE & 12.705432\\\\\n\t MG & SE & 12.673427\\\\\n\t RJ & SE & 15.135674\\\\\n\t SP & SE & 14.132102\\\\\n\\end{tabular}\n",
            "text/plain": [
              "   UF rg tx_desocup\n",
              "1  AC N  14.631468 \n",
              "2  AM N  14.007380 \n",
              "3  AP N  21.704703 \n",
              "4  PA N  12.281720 \n",
              "5  RO N  10.562150 \n",
              "6  RR N  10.504836 \n",
              "7  TO N  11.048851 \n",
              "8  AL NE 17.964164 \n",
              "9  BA NE 18.095607 \n",
              "10 CE NE 12.931611 \n",
              "11 MA NE 15.774816 \n",
              "12 PB NE 11.903543 \n",
              "13 PE NE 17.963361 \n",
              "14 PI NE 13.329969 \n",
              "15 RN NE 15.092473 \n",
              "16 SE NE 17.225267 \n",
              "17 DF CO 14.077898 \n",
              "18 GO CO 10.378141 \n",
              "19 MS CO  8.509998 \n",
              "20 MT CO  9.455799 \n",
              "21 PR S   9.656143 \n",
              "22 RS S   8.587558 \n",
              "23 SC S   6.557059 \n",
              "24 ES SE 12.705432 \n",
              "25 MG SE 12.673427 \n",
              "26 RJ SE 15.135674 \n",
              "27 SP SE 14.132102 "
            ]
          },
          "metadata": {}
        }
      ]
    },
    {
      "cell_type": "code",
      "source": [
        "ggplot(df_plot, aes(x = UF, y = tx_desocup, fill = rg)) +\n",
        "  geom_bar(stat = \"identity\") +\n",
        "  scale_x_discrete(name = \"UF\") +\n",
        "  scale_y_continuous(name = \"Taxa de desocupação (%)\") +\n",
        "  scale_fill_manual(values = c(\"N\" = \"#002e34\",\"NE\" = \"#004443\", \"CO\" = \"#00755c\", \"S\" = \"#00c16c\", \"SE\" = \"#90ff17\"), name = \"Região\") +\n",
        "  theme_bw() +\n",
        "  theme(panel.grid.major = element_line(colour = \"black\", linewidth = 0.3, linetype = 3))"
      ],
      "metadata": {
        "colab": {
          "base_uri": "https://localhost:8080/",
          "height": 437
        },
        "id": "B_7rdGz4vOsR",
        "outputId": "6803a728-8b5f-441e-d850-7ac607736621"
      },
      "execution_count": null,
      "outputs": [
        {
          "output_type": "display_data",
          "data": {
            "text/plain": [
              "plot without title"
            ],
            "image/png": "[encoded data removed]"
          },
          "metadata": {
            "image/png": {
              "width": 420,
              "height": 420
            }
          }
        }
      ]
    },
    {
      "cell_type": "code",
      "source": [
        "write.csv(indicadores_mt, \"indicadores.csv\", row.names = FALSE)"
      ],
      "metadata": {
        "id": "Tg91--H04X6Q"
      },
      "execution_count": null,
      "outputs": []
    },
    {
      "cell_type": "markdown",
      "source": [
        "## **Estatísticas**"
      ],
      "metadata": {
        "id": "ny1Q73aAmw6u"
      }
    },
    {
      "cell_type": "code",
      "source": [
        "install.packages('convey')\n",
        "library(convey)"
      ],
      "metadata": {
        "colab": {
          "base_uri": "https://localhost:8080/"
        },
        "id": "ldK13Embwt4H",
        "outputId": "ab78024c-a8ec-4cf8-af5f-09e1376c26b9"
      },
      "execution_count": null,
      "outputs": [
        {
          "output_type": "stream",
          "name": "stderr",
          "text": [
            "Installing package into ‘/usr/local/lib/R/site-library’\n",
            "(as ‘lib’ is unspecified)\n",
            "\n"
          ]
        }
      ]
    },
    {
      "cell_type": "code",
      "source": [
        "giniUF = svyby(formula=~VD4020, by=~UF, design=dados_pnadc, FUN=svygini, na.rm=TRUE)\n",
        "\n",
        "giniUF = data.frame(giniUF) %>%\n",
        "  mutate(gini = VD4020) %>%\n",
        "  select(UF, gini)\n",
        "\n",
        "rownames(giniUF) = NULL\n",
        "\n",
        "giniUF$UF = siglas_uf = c(\"RO\", \"AC\", \"AM\", \"RR\", \"PA\", \"AP\", \"TO\", \"MA\", \"PI\", \"CE\", \"RN\", \"PB\", \"PE\", \"AL\", \"SE\", \"BA\", \"MG\", \"ES\", \"RJ\", \"SP\", \"PR\", \"SC\", \"RS\", \"MS\", \"MT\", \"GO\", \"DF\")\n",
        "\n",
        "write.csv(giniUF, \"gini_uf.csv\", row.names = FALSE)"
      ],
      "metadata": {
        "id": "X46mb8l4wQ-B"
      },
      "execution_count": null,
      "outputs": []
    },
    {
      "cell_type": "code",
      "execution_count": null,
      "metadata": {
        "colab": {
          "base_uri": "https://localhost:8080/",
          "height": 34
        },
        "id": "ObPt9mCy3bbr",
        "outputId": "d08dda9b-52a8-4365-b9c8-732dc8c7de2f"
      },
      "outputs": [
        {
          "output_type": "display_data",
          "data": {
            "text/html": [
              "2100.85072936162"
            ],
            "text/markdown": "2100.85072936162",
            "text/latex": "2100.85072936162",
            "text/plain": [
              "[1] 2100.851"
            ]
          },
          "metadata": {}
        }
      ],
      "source": [
        "mean(df$VD4020, na.rm = TRUE)"
      ]
    },
    {
      "cell_type": "code",
      "execution_count": null,
      "metadata": {
        "id": "XmEUlWop0hJ-"
      },
      "outputs": [],
      "source": [
        "totalrenda = svytotal(x=~VD4020, design=dados_pnadc, na.rm=TRUE)"
      ]
    },
    {
      "cell_type": "code",
      "execution_count": null,
      "metadata": {
        "colab": {
          "base_uri": "https://localhost:8080/",
          "height": 52
        },
        "id": "x-0dVIe16yCe",
        "outputId": "9e61fd7c-048d-43ba-9ac3-180c747f79ea"
      },
      "outputs": [
        {
          "data": {
            "text/plain": [
              "            total         SE\n",
              "VD4020 2.0918e+11 2513490843"
            ]
          },
          "metadata": {},
          "output_type": "display_data"
        }
      ],
      "source": [
        "totalrenda"
      ]
    },
    {
      "cell_type": "code",
      "execution_count": null,
      "metadata": {
        "colab": {
          "base_uri": "https://localhost:8080/",
          "height": 52
        },
        "id": "O8LEQzL7D4i5",
        "outputId": "85cbc477-5089-47cb-bfae-233d1118a688"
      },
      "outputs": [
        {
          "data": {
            "text/plain": [
              "         mean     SE\n",
              "VD4020 2359.8 27.686"
            ]
          },
          "metadata": {},
          "output_type": "display_data"
        }
      ],
      "source": [
        "svymean(x = ~VD4020, design = dados_pnadc, na.rm = TRUE)"
      ]
    },
    {
      "cell_type": "code",
      "execution_count": null,
      "metadata": {
        "colab": {
          "base_uri": "https://localhost:8080/",
          "height": 34
        },
        "id": "jW9JDE_HDpF9",
        "outputId": "df2f0dd3-4711-4954-9bc2-539d3708eb89"
      },
      "outputs": [
        {
          "data": {
            "text/html": [
              "<strong>VD4020:</strong> 0.0120159953712288"
            ],
            "text/latex": "\\textbf{VD4020:} 0.0120159953712288",
            "text/markdown": "**VD4020:** 0.0120159953712288",
            "text/plain": [
              "  VD4020 \n",
              "0.012016 "
            ]
          },
          "metadata": {},
          "output_type": "display_data"
        }
      ],
      "source": [
        "cv(object = totalrenda)"
      ]
    },
    {
      "cell_type": "code",
      "execution_count": null,
      "metadata": {
        "colab": {
          "base_uri": "https://localhost:8080/"
        },
        "id": "XLLY4GODFJr1",
        "outputId": "8326b6be-bb6e-4716-d6a6-45736ced8046"
      },
      "outputs": [
        {
          "name": "stdout",
          "output_type": "stream",
          "text": [
            "[1] 1\n"
          ]
        }
      ],
      "source": [
        "print(1)"
      ]
    },
    {
      "cell_type": "markdown",
      "source": [
        "## **Modelagem**"
      ],
      "metadata": {
        "id": "4eD-LeAKaOVw"
      }
    },
    {
      "cell_type": "code",
      "source": [
        "rg = c(rep(\"N\", 7),rep(\"NE\", 9), rep(\"SE\", 4), rep(\"S\", 3), rep(\"CO\", 4))\n",
        "\n",
        "uf = dados_pnadc$variables %>%\n",
        "  select(UF) %>%\n",
        "  group_by(UF) %>%\n",
        "  count()\n",
        "\n",
        "uf$regiao = rg\n",
        "uf = uf %>%\n",
        "  select(UF, regiao)\n",
        "\n",
        "dados_pnadc$variables = dados_pnadc$variables %>%\n",
        "  left_join(uf, by = 'UF') %>%\n",
        "  mutate(regiao = factor(regiao, levels = c('SE', 'N', 'NE', 'CO', 'S')))\n",
        "dados_pnadc$variables$tres_salarios_min = ifelse(dados_pnadc$variables$VD4020>3*954,1,0)\n",
        "dados_pnadc$variables = dados_pnadc$variables %>%\n",
        "  mutate(tres_salarios_min = factor(tres_salarios_min, levels = c(0,1)))\n",
        "dados_pnadc$variables$raca = ifelse(dados_pnadc$variables$V2010 == 'Branca' | dados_pnadc$variables$V2010 == 'Amarela','Branca ou Amarela','Não Branca ou Amarela')\n",
        "dados_pnadc$variables = dados_pnadc$variables %>%\n",
        "  mutate(raca = factor(raca, levels = c('Branca ou Amarela','Não Branca ou Amarela')))\n",
        "dados_pnadc$variables$superior = ifelse(is.na(dados_pnadc$variables$VD3004), NA, ifelse(dados_pnadc$variables$VD3004 == 'Superior completo', 'Superior completo', 'Não tem superior completo'))\n",
        "dados_pnadc$variables = dados_pnadc$variables %>%\n",
        "  mutate(superior = factor(superior, levels = c('Superior completo','Não tem superior completo')))"
      ],
      "metadata": {
        "id": "tF2sXqq0iHvS"
      },
      "execution_count": null,
      "outputs": []
    },
    {
      "cell_type": "code",
      "source": [
        "modelo_log = svyglm(tres_salarios_min ~ regiao + V2007 + V2009 + raca + superior, dados_pnadc, family = 'binomial')"
      ],
      "metadata": {
        "colab": {
          "base_uri": "https://localhost:8080/"
        },
        "id": "Hx_nf-43c2R5",
        "outputId": "b19d97cc-20aa-4799-8c14-4c5da211609c"
      },
      "execution_count": null,
      "outputs": [
        {
          "output_type": "stream",
          "name": "stderr",
          "text": [
            "Warning message in eval(family$initialize):\n",
            "“non-integer #successes in a binomial glm!”\n"
          ]
        }
      ]
    },
    {
      "cell_type": "code",
      "source": [
        "summary(modelo_log)"
      ],
      "metadata": {
        "colab": {
          "base_uri": "https://localhost:8080/",
          "height": 468
        },
        "id": "6eVFjUKKbUTJ",
        "outputId": "c050ca12-6b00-462a-be0b-92bcec862bc5"
      },
      "execution_count": null,
      "outputs": [
        {
          "output_type": "display_data",
          "data": {
            "text/plain": [
              "\n",
              "Call:\n",
              "svyglm(formula = tres_salarios_min ~ regiao + V2007 + V2009 + \n",
              "    raca, dados_pnadc, family = \"binomial\")\n",
              "\n",
              "Survey design:\n",
              "svrepdesign.default(data = data_pnadc, weight = ~V1028, type = \"bootstrap\", \n",
              "    repweights = \"V1028[0-9]+\", mse = TRUE, replicates = length(sprintf(\"V1028%03d\", \n",
              "        seq(1:200))), df = length(sprintf(\"V1028%03d\", seq(1:200))))\n",
              "\n",
              "Coefficients:\n",
              "                            Estimate Std. Error t value Pr(>|t|)    \n",
              "(Intercept)               -1.5000880  0.0418576 -35.838  < 2e-16 ***\n",
              "regiaoN                   -0.3507608  0.0498097  -7.042 3.29e-11 ***\n",
              "regiaoNE                  -0.6157474  0.0405528 -15.184  < 2e-16 ***\n",
              "regiaoCO                   0.2303929  0.0403750   5.706 4.32e-08 ***\n",
              "regiaoS                   -0.0793596  0.0347287  -2.285   0.0234 *  \n",
              "V2007Mulher               -0.4048278  0.0147517 -27.443  < 2e-16 ***\n",
              "V2009                      0.0226464  0.0006345  35.690  < 2e-16 ***\n",
              "racaNão Branca ou Amarela -0.8714754  0.0219539 -39.696  < 2e-16 ***\n",
              "---\n",
              "Signif. codes:  0 ‘***’ 0.001 ‘**’ 0.01 ‘*’ 0.05 ‘.’ 0.1 ‘ ’ 1\n",
              "\n",
              "(Dispersion parameter for binomial family taken to be 1.064546)\n",
              "\n",
              "Number of Fisher Scoring iterations: 4\n"
            ]
          },
          "metadata": {}
        }
      ]
    },
    {
      "cell_type": "code",
      "source": [
        "summary(modelo_log)"
      ],
      "metadata": {
        "colab": {
          "base_uri": "https://localhost:8080/",
          "height": 486
        },
        "id": "2VXTzHw1dKXf",
        "outputId": "89ad9fab-fd89-4871-b068-88caa1689a77"
      },
      "execution_count": null,
      "outputs": [
        {
          "output_type": "display_data",
          "data": {
            "text/plain": [
              "\n",
              "Call:\n",
              "svyglm(formula = tres_salarios_min ~ regiao + V2007 + V2009 + \n",
              "    raca + superior, dados_pnadc, family = \"binomial\")\n",
              "\n",
              "Survey design:\n",
              "svrepdesign.default(data = data_pnadc, weight = ~V1028, type = \"bootstrap\", \n",
              "    repweights = \"V1028[0-9]+\", mse = TRUE, replicates = length(sprintf(\"V1028%03d\", \n",
              "        seq(1:200))), df = length(sprintf(\"V1028%03d\", seq(1:200))))\n",
              "\n",
              "Coefficients:\n",
              "                                    Estimate Std. Error  t value Pr(>|t|)    \n",
              "(Intercept)                        0.1209870  0.0477818    2.532 0.012144 *  \n",
              "regiaoN                           -0.3796156  0.0451866   -8.401 9.94e-15 ***\n",
              "regiaoNE                          -0.6355964  0.0347876  -18.271  < 2e-16 ***\n",
              "regiaoCO                           0.2273371  0.0363853    6.248 2.64e-09 ***\n",
              "regiaoS                            0.1075322  0.0302470    3.555 0.000476 ***\n",
              "V2007Mulher                       -0.8874285  0.0175249  -50.638  < 2e-16 ***\n",
              "V2009                              0.0263123  0.0007362   35.741  < 2e-16 ***\n",
              "racaNão Branca ou Amarela         -0.5047432  0.0207019  -24.382  < 2e-16 ***\n",
              "superiorNão tem superior completo -2.5029783  0.0241227 -103.760  < 2e-16 ***\n",
              "---\n",
              "Signif. codes:  0 ‘***’ 0.001 ‘**’ 0.01 ‘*’ 0.05 ‘.’ 0.1 ‘ ’ 1\n",
              "\n",
              "(Dispersion parameter for binomial family taken to be 1.037822)\n",
              "\n",
              "Number of Fisher Scoring iterations: 5\n"
            ]
          },
          "metadata": {}
        }
      ]
    },
    {
      "cell_type": "code",
      "source": [
        "library(broom)\n",
        "tidy(modelo_log, expo = TRUE, conf.int = TRUE)"
      ],
      "metadata": {
        "colab": {
          "base_uri": "https://localhost:8080/",
          "height": 380
        },
        "id": "e284U-GG8DNV",
        "outputId": "ab3dd5f6-dc68-4985-8105-961a256801cf"
      },
      "execution_count": null,
      "outputs": [
        {
          "output_type": "display_data",
          "data": {
            "text/html": [
              "<table class=\"dataframe\">\n",
              "<caption>A tibble: 9 × 7</caption>\n",
              "<thead>\n",
              "\t<tr><th scope=col>term</th><th scope=col>estimate</th><th scope=col>std.error</th><th scope=col>statistic</th><th scope=col>p.value</th><th scope=col>conf.low</th><th scope=col>conf.high</th></tr>\n",
              "\t<tr><th scope=col>&lt;chr&gt;</th><th scope=col>&lt;dbl&gt;</th><th scope=col>&lt;dbl&gt;</th><th scope=col>&lt;dbl&gt;</th><th scope=col>&lt;dbl&gt;</th><th scope=col>&lt;dbl&gt;</th><th scope=col>&lt;dbl&gt;</th></tr>\n",
              "</thead>\n",
              "<tbody>\n",
              "\t<tr><td>(Intercept)                      </td><td>1.12861028</td><td>0.0477817945</td><td>   2.532074</td><td> 1.214417e-02</td><td>1.02709996</td><td>1.24015306</td></tr>\n",
              "\t<tr><td>regiaoN                          </td><td>0.68412437</td><td>0.0451866035</td><td>  -8.401064</td><td> 9.936174e-15</td><td>0.62578751</td><td>0.74789948</td></tr>\n",
              "\t<tr><td>regiaoNE                         </td><td>0.52961951</td><td>0.0347876218</td><td> -18.270764</td><td> 8.618989e-44</td><td>0.49449725</td><td>0.56723638</td></tr>\n",
              "\t<tr><td>regiaoCO                         </td><td>1.25525297</td><td>0.0363852711</td><td>   6.248053</td><td> 2.644923e-09</td><td>1.16832203</td><td>1.34865215</td></tr>\n",
              "\t<tr><td>regiaoS                          </td><td>1.11352676</td><td>0.0302469861</td><td>   3.555139</td><td> 4.762108e-04</td><td>1.04903554</td><td>1.18198268</td></tr>\n",
              "\t<tr><td>V2007Mulher                      </td><td>0.41171313</td><td>0.0175248814</td><td> -50.638200</td><td>1.202097e-112</td><td>0.39772454</td><td>0.42619372</td></tr>\n",
              "\t<tr><td>V2009                            </td><td>1.02666156</td><td>0.0007362049</td><td>  35.740504</td><td> 1.571406e-86</td><td>1.02517179</td><td>1.02815349</td></tr>\n",
              "\t<tr><td>racaNão Branca ou Amarela        </td><td>0.60366059</td><td>0.0207018747</td><td> -24.381520</td><td> 1.496413e-60</td><td>0.57950741</td><td>0.62882045</td></tr>\n",
              "\t<tr><td>superiorNão tem superior completo</td><td>0.08184089</td><td>0.0241226535</td><td>-103.760486</td><td>6.484306e-170</td><td>0.07803801</td><td>0.08582909</td></tr>\n",
              "</tbody>\n",
              "</table>\n"
            ],
            "text/markdown": "\nA tibble: 9 × 7\n\n| term &lt;chr&gt; | estimate &lt;dbl&gt; | std.error &lt;dbl&gt; | statistic &lt;dbl&gt; | p.value &lt;dbl&gt; | conf.low &lt;dbl&gt; | conf.high &lt;dbl&gt; |\n|---|---|---|---|---|---|---|\n| (Intercept)                       | 1.12861028 | 0.0477817945 |    2.532074 |  1.214417e-02 | 1.02709996 | 1.24015306 |\n| regiaoN                           | 0.68412437 | 0.0451866035 |   -8.401064 |  9.936174e-15 | 0.62578751 | 0.74789948 |\n| regiaoNE                          | 0.52961951 | 0.0347876218 |  -18.270764 |  8.618989e-44 | 0.49449725 | 0.56723638 |\n| regiaoCO                          | 1.25525297 | 0.0363852711 |    6.248053 |  2.644923e-09 | 1.16832203 | 1.34865215 |\n| regiaoS                           | 1.11352676 | 0.0302469861 |    3.555139 |  4.762108e-04 | 1.04903554 | 1.18198268 |\n| V2007Mulher                       | 0.41171313 | 0.0175248814 |  -50.638200 | 1.202097e-112 | 0.39772454 | 0.42619372 |\n| V2009                             | 1.02666156 | 0.0007362049 |   35.740504 |  1.571406e-86 | 1.02517179 | 1.02815349 |\n| racaNão Branca ou Amarela         | 0.60366059 | 0.0207018747 |  -24.381520 |  1.496413e-60 | 0.57950741 | 0.62882045 |\n| superiorNão tem superior completo | 0.08184089 | 0.0241226535 | -103.760486 | 6.484306e-170 | 0.07803801 | 0.08582909 |\n\n",
            "text/latex": "A tibble: 9 × 7\n\\begin{tabular}{lllllll}\n term & estimate & std.error & statistic & p.value & conf.low & conf.high\\\\\n <chr> & <dbl> & <dbl> & <dbl> & <dbl> & <dbl> & <dbl>\\\\\n\\hline\n\t (Intercept)                       & 1.12861028 & 0.0477817945 &    2.532074 &  1.214417e-02 & 1.02709996 & 1.24015306\\\\\n\t regiaoN                           & 0.68412437 & 0.0451866035 &   -8.401064 &  9.936174e-15 & 0.62578751 & 0.74789948\\\\\n\t regiaoNE                          & 0.52961951 & 0.0347876218 &  -18.270764 &  8.618989e-44 & 0.49449725 & 0.56723638\\\\\n\t regiaoCO                          & 1.25525297 & 0.0363852711 &    6.248053 &  2.644923e-09 & 1.16832203 & 1.34865215\\\\\n\t regiaoS                           & 1.11352676 & 0.0302469861 &    3.555139 &  4.762108e-04 & 1.04903554 & 1.18198268\\\\\n\t V2007Mulher                       & 0.41171313 & 0.0175248814 &  -50.638200 & 1.202097e-112 & 0.39772454 & 0.42619372\\\\\n\t V2009                             & 1.02666156 & 0.0007362049 &   35.740504 &  1.571406e-86 & 1.02517179 & 1.02815349\\\\\n\t racaNão Branca ou Amarela         & 0.60366059 & 0.0207018747 &  -24.381520 &  1.496413e-60 & 0.57950741 & 0.62882045\\\\\n\t superiorNão tem superior completo & 0.08184089 & 0.0241226535 & -103.760486 & 6.484306e-170 & 0.07803801 & 0.08582909\\\\\n\\end{tabular}\n",
            "text/plain": [
              "  term                              estimate   std.error    statistic  \n",
              "1 (Intercept)                       1.12861028 0.0477817945    2.532074\n",
              "2 regiaoN                           0.68412437 0.0451866035   -8.401064\n",
              "3 regiaoNE                          0.52961951 0.0347876218  -18.270764\n",
              "4 regiaoCO                          1.25525297 0.0363852711    6.248053\n",
              "5 regiaoS                           1.11352676 0.0302469861    3.555139\n",
              "6 V2007Mulher                       0.41171313 0.0175248814  -50.638200\n",
              "7 V2009                             1.02666156 0.0007362049   35.740504\n",
              "8 racaNão Branca ou Amarela         0.60366059 0.0207018747  -24.381520\n",
              "9 superiorNão tem superior completo 0.08184089 0.0241226535 -103.760486\n",
              "  p.value       conf.low   conf.high \n",
              "1  1.214417e-02 1.02709996 1.24015306\n",
              "2  9.936174e-15 0.62578751 0.74789948\n",
              "3  8.618989e-44 0.49449725 0.56723638\n",
              "4  2.644923e-09 1.16832203 1.34865215\n",
              "5  4.762108e-04 1.04903554 1.18198268\n",
              "6 1.202097e-112 0.39772454 0.42619372\n",
              "7  1.571406e-86 1.02517179 1.02815349\n",
              "8  1.496413e-60 0.57950741 0.62882045\n",
              "9 6.484306e-170 0.07803801 0.08582909"
            ]
          },
          "metadata": {}
        }
      ]
    },
    {
      "cell_type": "code",
      "source": [
        "media_ocupacao = svymean(~interaction(tres_salarios_min,regiao=='SE'), subset(dados_pnadc, regiao=='SE'), na.rm = T)\n",
        "ftable(media_ocupacao)"
      ],
      "metadata": {
        "colab": {
          "base_uri": "https://localhost:8080/",
          "height": 69
        },
        "id": "Iko1tS-XciM0",
        "outputId": "038b20c4-410c-47ef-838f-7df862ce0b14"
      },
      "execution_count": null,
      "outputs": [
        {
          "output_type": "display_data",
          "data": {
            "text/plain": [
              "                                                               A           B\n",
              "interaction(tres_salarios_min, regiao == \"SE\")0.TRUE 0.754949446 0.004936321\n",
              "interaction(tres_salarios_min, regiao == \"SE\")1.TRUE 0.245050554 0.004936321"
            ]
          },
          "metadata": {}
        }
      ]
    },
    {
      "cell_type": "code",
      "source": [
        "media_ocupacao = svymean(~interaction(tres_salarios_min,regiao=='CO'), subset(dados_pnadc, regiao=='CO'), na.rm = T)\n",
        "ftable(media_ocupacao)"
      ],
      "metadata": {
        "colab": {
          "base_uri": "https://localhost:8080/",
          "height": 69
        },
        "id": "qWpHCeRAkOhC",
        "outputId": "267e833d-ed3e-449c-e414-7e37dd6aa2b1"
      },
      "execution_count": null,
      "outputs": [
        {
          "output_type": "display_data",
          "data": {
            "text/plain": [
              "                                                               A           B\n",
              "interaction(tres_salarios_min, regiao == \"CO\")0.TRUE 0.740100264 0.005922897\n",
              "interaction(tres_salarios_min, regiao == \"CO\")1.TRUE 0.259899736 0.005922897"
            ]
          },
          "metadata": {}
        }
      ]
    },
    {
      "cell_type": "code",
      "source": [
        "media_ocupacao = svymean(~interaction(tres_salarios_min,regiao=='N'), subset(dados_pnadc, regiao=='N'), na.rm = T)\n",
        "ftable(media_ocupacao)"
      ],
      "metadata": {
        "colab": {
          "base_uri": "https://localhost:8080/",
          "height": 69
        },
        "id": "SA-r3WdFkR_a",
        "outputId": "0f5bbf7a-fb9b-4555-a802-a32b8136766d"
      },
      "execution_count": null,
      "outputs": [
        {
          "output_type": "display_data",
          "data": {
            "text/plain": [
              "                                                              A           B\n",
              "interaction(tres_salarios_min, regiao == \"N\")0.TRUE 0.852379854 0.005207218\n",
              "interaction(tres_salarios_min, regiao == \"N\")1.TRUE 0.147620146 0.005207218"
            ]
          },
          "metadata": {}
        }
      ]
    },
    {
      "cell_type": "code",
      "source": [
        "media_ocupacao = svymean(~interaction(VD4002,regiao=='NE'), subset(dados_pnadc, regiao=='NE'), na.rm = T)\n",
        "ftable(media_ocupacao)"
      ],
      "metadata": {
        "colab": {
          "base_uri": "https://localhost:8080/",
          "height": 121
        },
        "id": "kFf-gfPskdHU",
        "outputId": "c6df5959-27bf-4c89-9a62-bd8882a793d0"
      },
      "execution_count": null,
      "outputs": [
        {
          "output_type": "display_data",
          "data": {
            "text/plain": [
              "                                                                      A\n",
              "interaction(VD4002, regiao == \"NE\")Pessoas ocupadas.TRUE    0.839553900\n",
              "interaction(VD4002, regiao == \"NE\")Pessoas desocupadas.TRUE 0.160446100\n",
              "                                                                      B\n",
              "interaction(VD4002, regiao == \"NE\")Pessoas ocupadas.TRUE    0.002343864\n",
              "interaction(VD4002, regiao == \"NE\")Pessoas desocupadas.TRUE 0.002343864"
            ]
          },
          "metadata": {}
        }
      ]
    },
    {
      "cell_type": "code",
      "source": [
        "media_ocupacao = svymean(~interaction(VD4002,regiao=='CO'), subset(dados_pnadc, regiao=='CO'), na.rm = T)\n",
        "ftable(media_ocupacao)"
      ],
      "metadata": {
        "colab": {
          "base_uri": "https://localhost:8080/",
          "height": 121
        },
        "id": "YKRtFwnWkjpR",
        "outputId": "fe2d7cb8-fe95-4c00-8edc-862852306a91"
      },
      "execution_count": null,
      "outputs": [
        {
          "output_type": "display_data",
          "data": {
            "text/plain": [
              "                                                                      A\n",
              "interaction(VD4002, regiao == \"CO\")Pessoas ocupadas.TRUE    0.894140056\n",
              "interaction(VD4002, regiao == \"CO\")Pessoas desocupadas.TRUE 0.105859944\n",
              "                                                                      B\n",
              "interaction(VD4002, regiao == \"CO\")Pessoas ocupadas.TRUE    0.002834396\n",
              "interaction(VD4002, regiao == \"CO\")Pessoas desocupadas.TRUE 0.002834396"
            ]
          },
          "metadata": {}
        }
      ]
    },
    {
      "cell_type": "code",
      "source": [
        "regTermTest(modelo_log, ~ raca)"
      ],
      "metadata": {
        "colab": {
          "base_uri": "https://localhost:8080/",
          "height": 86
        },
        "id": "hWZqEKr97KdN",
        "outputId": "ac5104fa-a252-4ae9-e3be-cfa33dc1d7c9"
      },
      "execution_count": null,
      "outputs": [
        {
          "output_type": "display_data",
          "data": {
            "text/plain": [
              "Wald test for raca\n",
              " in svyglm(formula = tres_salarios_min ~ regiao + V2007 + V2009 + \n",
              "    raca, dados_pnadc, family = \"binomial\")\n",
              "F =  1575.755  on  1  and  192  df: p= < 2.22e-16 "
            ]
          },
          "metadata": {}
        }
      ]
    },
    {
      "cell_type": "code",
      "source": [
        "install.packages('pROC')\n",
        "library(pROC)"
      ],
      "metadata": {
        "colab": {
          "base_uri": "https://localhost:8080/"
        },
        "id": "8Jh5OaZrMwpF",
        "outputId": "618a3e58-b405-41a1-d9bf-fbffc95e2ad7"
      },
      "execution_count": null,
      "outputs": [
        {
          "output_type": "stream",
          "name": "stderr",
          "text": [
            "Installing package into ‘/usr/local/lib/R/site-library’\n",
            "(as ‘lib’ is unspecified)\n",
            "\n",
            "also installing the dependency ‘plyr’\n",
            "\n",
            "\n",
            "Type 'citation(\"pROC\")' for a citation.\n",
            "\n",
            "\n",
            "Attaching package: ‘pROC’\n",
            "\n",
            "\n",
            "The following objects are masked from ‘package:stats’:\n",
            "\n",
            "    cov, smooth, var\n",
            "\n",
            "\n"
          ]
        }
      ]
    },
    {
      "cell_type": "code",
      "source": [
        "predicted_probs = predict(modelo_log, type = \"response\")"
      ],
      "metadata": {
        "id": "vZsP1qJjNDtJ"
      },
      "execution_count": null,
      "outputs": []
    },
    {
      "cell_type": "code",
      "source": [
        "actual_values = na.omit(dados_pnadc$variables$tres_salarios_min)\n",
        "\n",
        "# Criação da curva ROC\n",
        "roc_curve = roc(actual_values, predicted_probs)\n",
        "\n",
        "# Plot da curva ROC\n",
        "plot(roc_curve, main = 'Curva ROC', xlab = 'Especificidade', ylab = 'Sensibilidade')\n",
        "\n",
        "# Cálculo da AUC\n",
        "auc_value = auc(roc_curve)\n",
        "print(paste(\"AUC:\", auc_value))"
      ],
      "metadata": {
        "colab": {
          "base_uri": "https://localhost:8080/",
          "height": 524
        },
        "id": "h_idfSV8NKIN",
        "outputId": "12def35a-2a09-4bc9-f7d0-73c9cf8d3034"
      },
      "execution_count": null,
      "outputs": [
        {
          "output_type": "stream",
          "name": "stderr",
          "text": [
            "Setting levels: control = 0, case = 1\n",
            "\n",
            "Setting direction: controls < cases\n",
            "\n"
          ]
        },
        {
          "output_type": "stream",
          "name": "stdout",
          "text": [
            "[1] \"AUC: 0.816286149547423\"\n"
          ]
        },
        {
          "output_type": "display_data",
          "data": {
            "text/plain": [
              "Plot with title “Curva ROC”"
            ],
            "image/png": "[encoded data removed]"
          },
          "metadata": {
            "image/png": {
              "width": 420,
              "height": 420
            }
          }
        }
      ]
    },
    {
      "cell_type": "code",
      "source": [
        "c(length(predicted_probs),length(na.omit(actual_values)))"
      ],
      "metadata": {
        "colab": {
          "base_uri": "https://localhost:8080/",
          "height": 34
        },
        "id": "vJqFgkc0NbwH",
        "outputId": "5350fa64-3c80-40d2-a764-c3817cf68fe9"
      },
      "execution_count": null,
      "outputs": [
        {
          "output_type": "display_data",
          "data": {
            "text/html": [
              "<style>\n",
              ".list-inline {list-style: none; margin:0; padding: 0}\n",
              ".list-inline>li {display: inline-block}\n",
              ".list-inline>li:not(:last-child)::after {content: \"\\00b7\"; padding: 0 .5ex}\n",
              "</style>\n",
              "<ol class=list-inline><li>223346</li><li>223346</li></ol>\n"
            ],
            "text/markdown": "1. 223346\n2. 223346\n\n\n",
            "text/latex": "\\begin{enumerate*}\n\\item 223346\n\\item 223346\n\\end{enumerate*}\n",
            "text/plain": [
              "[1] 223346 223346"
            ]
          },
          "metadata": {}
        }
      ]
    }
  ],
  "metadata": {
    "colab": {
      "provenance": [],
      "collapsed_sections": [
        "73WUgpcuyyot",
        "ny1Q73aAmw6u"
      ],
      "authorship_tag": "ABX9TyOuMb9Kb5ZgOuwxpDQyI91S",
      "include_colab_link": true
    },
    "kernelspec": {
      "display_name": "R",
      "name": "ir"
    },
    "language_info": {
      "name": "R"
    }
  },
  "nbformat": 4,
  "nbformat_minor": 0
}